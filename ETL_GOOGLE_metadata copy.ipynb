{
 "cells": [
  {
   "cell_type": "code",
   "execution_count": 1,
   "metadata": {},
   "outputs": [],
   "source": [
    "import os\n",
    "import json\n",
    "import pandas as pd\n",
    "import numpy as np\n",
    "import warnings\n",
    "import reverse_geocode\n",
    "warnings.filterwarnings('ignore')"
   ]
  },
  {
   "cell_type": "markdown",
   "metadata": {},
   "source": [
    "# ETL\n",
    "La idea en este notebook es realizar las transformaciones correspondientes a los datos de Google Maps, tanto la metadata como los reviews. \n",
    "\n",
    "En este caso el alcance se limita a los 5 estados con mayor población California, Nueva York, Texas, Pensilvania y Florida. En cuanto a lo estudiado va a ser la categoria restaurantes, incluyendo todo tipo de los mismos."
   ]
  },
  {
   "cell_type": "code",
   "execution_count": 2,
   "metadata": {},
   "outputs": [],
   "source": [
    "#Generamos un diccionario con las carpetas de los archivos\n",
    "ruta_review_estados={\n",
    "    'New_York': 'Datasets/Google Maps/reviews-estados/review-New_York',\n",
    "    'California': 'Datasets/Google Maps/reviews-estados/review-California',\n",
    "    'Texas': 'Datasets/Google Maps/reviews-estados/review-Texas',\n",
    "    'Florida': 'Datasets/Google Maps/reviews-estados/review-Florida',\n",
    "    'Pennsylvania': 'Datasets/Google Maps/reviews-estados/review-Pennsylvania',\n",
    "\n",
    "}"
   ]
  },
  {
   "cell_type": "code",
   "execution_count": 3,
   "metadata": {},
   "outputs": [
    {
     "name": "stdout",
     "output_type": "stream",
     "text": [
      "Datasets/Google Maps/reviews-estados/review-New_York\\1.json\n",
      "Datasets/Google Maps/reviews-estados/review-New_York\\10.json\n",
      "Datasets/Google Maps/reviews-estados/review-New_York\\11.json\n",
      "Datasets/Google Maps/reviews-estados/review-New_York\\12.json\n",
      "Datasets/Google Maps/reviews-estados/review-New_York\\13.json\n",
      "Datasets/Google Maps/reviews-estados/review-New_York\\14.json\n",
      "Datasets/Google Maps/reviews-estados/review-New_York\\15.json\n",
      "Datasets/Google Maps/reviews-estados/review-New_York\\16.json\n",
      "Datasets/Google Maps/reviews-estados/review-New_York\\17.json\n",
      "Datasets/Google Maps/reviews-estados/review-New_York\\18.json\n",
      "Datasets/Google Maps/reviews-estados/review-New_York\\2.json\n",
      "Datasets/Google Maps/reviews-estados/review-New_York\\3.json\n",
      "Datasets/Google Maps/reviews-estados/review-New_York\\4.json\n",
      "Datasets/Google Maps/reviews-estados/review-New_York\\5.json\n",
      "Datasets/Google Maps/reviews-estados/review-New_York\\6.json\n",
      "Datasets/Google Maps/reviews-estados/review-New_York\\7.json\n",
      "Datasets/Google Maps/reviews-estados/review-New_York\\8.json\n",
      "Datasets/Google Maps/reviews-estados/review-New_York\\9.json\n",
      "Datasets/Google Maps/reviews-estados/review-California\\1.json\n",
      "Datasets/Google Maps/reviews-estados/review-California\\10.json\n",
      "Datasets/Google Maps/reviews-estados/review-California\\11.json\n",
      "Datasets/Google Maps/reviews-estados/review-California\\12.json\n",
      "Datasets/Google Maps/reviews-estados/review-California\\13.json\n",
      "Datasets/Google Maps/reviews-estados/review-California\\14.json\n",
      "Datasets/Google Maps/reviews-estados/review-California\\15.json\n",
      "Datasets/Google Maps/reviews-estados/review-California\\16.json\n",
      "Datasets/Google Maps/reviews-estados/review-California\\17.json\n",
      "Datasets/Google Maps/reviews-estados/review-California\\18.json\n",
      "Datasets/Google Maps/reviews-estados/review-California\\2.json\n",
      "Datasets/Google Maps/reviews-estados/review-California\\3.json\n",
      "Datasets/Google Maps/reviews-estados/review-California\\4.json\n",
      "Datasets/Google Maps/reviews-estados/review-California\\5.json\n",
      "Datasets/Google Maps/reviews-estados/review-California\\6.json\n",
      "Datasets/Google Maps/reviews-estados/review-California\\7.json\n",
      "Datasets/Google Maps/reviews-estados/review-California\\8.json\n",
      "Datasets/Google Maps/reviews-estados/review-California\\9.json\n",
      "Datasets/Google Maps/reviews-estados/review-Texas\\1.json\n",
      "Datasets/Google Maps/reviews-estados/review-Texas\\10.json\n",
      "Datasets/Google Maps/reviews-estados/review-Texas\\11.json\n",
      "Datasets/Google Maps/reviews-estados/review-Texas\\12.json\n",
      "Datasets/Google Maps/reviews-estados/review-Texas\\13.json\n",
      "Datasets/Google Maps/reviews-estados/review-Texas\\14.json\n",
      "Datasets/Google Maps/reviews-estados/review-Texas\\15.json\n",
      "Datasets/Google Maps/reviews-estados/review-Texas\\16.json\n",
      "Datasets/Google Maps/reviews-estados/review-Texas\\2.json\n",
      "Datasets/Google Maps/reviews-estados/review-Texas\\3.json\n",
      "Datasets/Google Maps/reviews-estados/review-Texas\\4.json\n",
      "Datasets/Google Maps/reviews-estados/review-Texas\\5.json\n",
      "Datasets/Google Maps/reviews-estados/review-Texas\\6.json\n",
      "Datasets/Google Maps/reviews-estados/review-Texas\\7.json\n",
      "Datasets/Google Maps/reviews-estados/review-Texas\\8.json\n",
      "Datasets/Google Maps/reviews-estados/review-Texas\\9.json\n",
      "Datasets/Google Maps/reviews-estados/review-Florida\\1.json\n",
      "Datasets/Google Maps/reviews-estados/review-Florida\\10.json\n",
      "Datasets/Google Maps/reviews-estados/review-Florida\\11.json\n",
      "Datasets/Google Maps/reviews-estados/review-Florida\\12.json\n",
      "Datasets/Google Maps/reviews-estados/review-Florida\\13.json\n",
      "Datasets/Google Maps/reviews-estados/review-Florida\\14.json\n",
      "Datasets/Google Maps/reviews-estados/review-Florida\\15.json\n",
      "Datasets/Google Maps/reviews-estados/review-Florida\\16.json\n",
      "Datasets/Google Maps/reviews-estados/review-Florida\\17.json\n",
      "Datasets/Google Maps/reviews-estados/review-Florida\\18.json\n",
      "Datasets/Google Maps/reviews-estados/review-Florida\\19.json\n",
      "Datasets/Google Maps/reviews-estados/review-Florida\\2.json\n",
      "Datasets/Google Maps/reviews-estados/review-Florida\\3.json\n",
      "Datasets/Google Maps/reviews-estados/review-Florida\\4.json\n",
      "Datasets/Google Maps/reviews-estados/review-Florida\\5.json\n",
      "Datasets/Google Maps/reviews-estados/review-Florida\\6.json\n",
      "Datasets/Google Maps/reviews-estados/review-Florida\\7.json\n",
      "Datasets/Google Maps/reviews-estados/review-Florida\\8.json\n",
      "Datasets/Google Maps/reviews-estados/review-Florida\\9.json\n",
      "Datasets/Google Maps/reviews-estados/review-Pennsylvania\\1.json\n",
      "Datasets/Google Maps/reviews-estados/review-Pennsylvania\\10.json\n",
      "Datasets/Google Maps/reviews-estados/review-Pennsylvania\\11.json\n",
      "Datasets/Google Maps/reviews-estados/review-Pennsylvania\\12.json\n",
      "Datasets/Google Maps/reviews-estados/review-Pennsylvania\\13.json\n",
      "Datasets/Google Maps/reviews-estados/review-Pennsylvania\\14.json\n",
      "Datasets/Google Maps/reviews-estados/review-Pennsylvania\\15.json\n",
      "Datasets/Google Maps/reviews-estados/review-Pennsylvania\\16.json\n",
      "Datasets/Google Maps/reviews-estados/review-Pennsylvania\\2.json\n",
      "Datasets/Google Maps/reviews-estados/review-Pennsylvania\\3.json\n",
      "Datasets/Google Maps/reviews-estados/review-Pennsylvania\\4.json\n",
      "Datasets/Google Maps/reviews-estados/review-Pennsylvania\\5.json\n",
      "Datasets/Google Maps/reviews-estados/review-Pennsylvania\\6.json\n",
      "Datasets/Google Maps/reviews-estados/review-Pennsylvania\\7.json\n",
      "Datasets/Google Maps/reviews-estados/review-Pennsylvania\\8.json\n",
      "Datasets/Google Maps/reviews-estados/review-Pennsylvania\\9.json\n"
     ]
    }
   ],
   "source": [
    "#Creamos un diccionario vacio para almacenar las claves de los reviews para poder filtrar los datos de metadata\n",
    "gmaps_ids = {}\n",
    "#Recorremos todas las rutas para cargar los datos de todos los estados\n",
    "for estado, ruta_estado in ruta_review_estados.items():\n",
    "#Se utiliza set para evitar duplicados\n",
    "    gmaps_ids[estado] =set()\n",
    "    #Se recorren todos los json de las carpetas de los reviews de los estados\n",
    "    for archivo in os.listdir(ruta_estado):\n",
    "        ruta_archivo=os.path.join(ruta_estado, archivo)\n",
    "        print(ruta_archivo)\n",
    "        with open(ruta_archivo,'r') as file:\n",
    "            for linea in file:\n",
    "                data = json.loads(linea)\n",
    "                gmaps_ids[estado].add(data['gmap_id'])\n"
   ]
  },
  {
   "cell_type": "code",
   "execution_count": 4,
   "metadata": {},
   "outputs": [],
   "source": [
    "#Ruta de la carpeta metadata\n",
    "ruta_metadata = 'Datasets/Google Maps/metadata-sitios'\n",
    "#Diccionario para almacenar los datos de metadata\n",
    "metadata = {}\n",
    "#Recorremos todos los archivos de la carpeta metadata\n",
    "for archivo in os.listdir(ruta_metadata):\n",
    "    ruta_archivo = os.path.join(ruta_metadata, archivo)\n",
    "    with open(ruta_archivo, 'r',encoding='ISO-8859-1') as file:\n",
    "        for linea in file:\n",
    "            data = json.loads(linea)\n",
    "            #Si el gmap_id esta en el diccionario de gmaps_ids se guarda\n",
    "            for estado in gmaps_ids.keys():\n",
    "                if data['gmap_id'] in gmaps_ids[estado]:\n",
    "                    metadata[data['gmap_id']] = data\n",
    "                    #Ademas se agrega una columna con el estado al que pertenece\n",
    "                    metadata[data['gmap_id']]['estado'] = estado"
   ]
  },
  {
   "cell_type": "code",
   "execution_count": 5,
   "metadata": {},
   "outputs": [],
   "source": [
    "df_metadata = pd.DataFrame(metadata).T"
   ]
  },
  {
   "cell_type": "code",
   "execution_count": 6,
   "metadata": {},
   "outputs": [],
   "source": [
    "df_metadata.reset_index(inplace=True)"
   ]
  },
  {
   "cell_type": "code",
   "execution_count": 7,
   "metadata": {},
   "outputs": [
    {
     "name": "stdout",
     "output_type": "stream",
     "text": [
      "<class 'pandas.core.frame.DataFrame'>\n",
      "RangeIndex: 319881 entries, 0 to 319880\n",
      "Data columns (total 17 columns):\n",
      " #   Column            Non-Null Count   Dtype \n",
      "---  ------            --------------   ----- \n",
      " 0   index             319881 non-null  object\n",
      " 1   name              319879 non-null  object\n",
      " 2   address           317103 non-null  object\n",
      " 3   gmap_id           319881 non-null  object\n",
      " 4   description       44767 non-null   object\n",
      " 5   latitude          319881 non-null  object\n",
      " 6   longitude         319881 non-null  object\n",
      " 7   category          319632 non-null  object\n",
      " 8   avg_rating        319881 non-null  object\n",
      " 9   num_of_reviews    319881 non-null  object\n",
      " 10  price             47766 non-null   object\n",
      " 11  hours             276487 non-null  object\n",
      " 12  MISC              286245 non-null  object\n",
      " 13  state             279719 non-null  object\n",
      " 14  relative_results  304211 non-null  object\n",
      " 15  url               319881 non-null  object\n",
      " 16  estado            319881 non-null  object\n",
      "dtypes: object(17)\n",
      "memory usage: 41.5+ MB\n"
     ]
    }
   ],
   "source": [
    "df_metadata.info()"
   ]
  },
  {
   "cell_type": "code",
   "execution_count": 8,
   "metadata": {},
   "outputs": [
    {
     "data": {
      "text/plain": [
       "index                    0\n",
       "name                     2\n",
       "address               2778\n",
       "gmap_id                  0\n",
       "description         275114\n",
       "latitude                 0\n",
       "longitude                0\n",
       "category               249\n",
       "avg_rating               0\n",
       "num_of_reviews           0\n",
       "price               272115\n",
       "hours                43394\n",
       "MISC                 33636\n",
       "state                40162\n",
       "relative_results     15670\n",
       "url                      0\n",
       "estado                   0\n",
       "dtype: int64"
      ]
     },
     "execution_count": 8,
     "metadata": {},
     "output_type": "execute_result"
    }
   ],
   "source": [
    "df_metadata.isnull().sum()"
   ]
  },
  {
   "cell_type": "markdown",
   "metadata": {},
   "source": [
    "Se eliminan todas las columnas que no aportan al proyecto ya sea por gran cantidad de nulos (price,description) o porque son innecesarias."
   ]
  },
  {
   "cell_type": "code",
   "execution_count": 9,
   "metadata": {},
   "outputs": [],
   "source": [
    "df_metadata.drop(columns=['index','description','hours','MISC','relative_results','url','price'],inplace=True)"
   ]
  },
  {
   "cell_type": "markdown",
   "metadata": {},
   "source": [
    "Además se eliminan las filas con los valores faltantes en categoría ya que es de suma importancia para el proyecto."
   ]
  },
  {
   "cell_type": "code",
   "execution_count": 10,
   "metadata": {},
   "outputs": [],
   "source": [
    "df_metadata.dropna(subset='category',inplace=True)"
   ]
  },
  {
   "cell_type": "code",
   "execution_count": 11,
   "metadata": {},
   "outputs": [
    {
     "data": {
      "text/plain": [
       "name                  2\n",
       "address            2777\n",
       "gmap_id               0\n",
       "latitude              0\n",
       "longitude             0\n",
       "category              0\n",
       "avg_rating            0\n",
       "num_of_reviews        0\n",
       "state             40050\n",
       "estado                0\n",
       "dtype: int64"
      ]
     },
     "execution_count": 11,
     "metadata": {},
     "output_type": "execute_result"
    }
   ],
   "source": [
    "df_metadata.isnull().sum()"
   ]
  },
  {
   "cell_type": "code",
   "execution_count": 12,
   "metadata": {},
   "outputs": [
    {
     "data": {
      "text/html": [
       "<div>\n",
       "<style scoped>\n",
       "    .dataframe tbody tr th:only-of-type {\n",
       "        vertical-align: middle;\n",
       "    }\n",
       "\n",
       "    .dataframe tbody tr th {\n",
       "        vertical-align: top;\n",
       "    }\n",
       "\n",
       "    .dataframe thead th {\n",
       "        text-align: right;\n",
       "    }\n",
       "</style>\n",
       "<table border=\"1\" class=\"dataframe\">\n",
       "  <thead>\n",
       "    <tr style=\"text-align: right;\">\n",
       "      <th></th>\n",
       "      <th>name</th>\n",
       "      <th>address</th>\n",
       "      <th>gmap_id</th>\n",
       "      <th>latitude</th>\n",
       "      <th>longitude</th>\n",
       "      <th>category</th>\n",
       "      <th>avg_rating</th>\n",
       "      <th>num_of_reviews</th>\n",
       "      <th>state</th>\n",
       "      <th>estado</th>\n",
       "    </tr>\n",
       "  </thead>\n",
       "  <tbody>\n",
       "    <tr>\n",
       "      <th>0</th>\n",
       "      <td>San Soo Dang</td>\n",
       "      <td>San Soo Dang, 761 S Vermont Ave, Los Angeles, ...</td>\n",
       "      <td>0x80c2c778e3b73d33:0xbdc58662a4a97d49</td>\n",
       "      <td>34.058092</td>\n",
       "      <td>-118.29213</td>\n",
       "      <td>[Korean restaurant]</td>\n",
       "      <td>4.4</td>\n",
       "      <td>18</td>\n",
       "      <td>Open ⋅ Closes 6PM</td>\n",
       "      <td>California</td>\n",
       "    </tr>\n",
       "    <tr>\n",
       "      <th>1</th>\n",
       "      <td>Nobel Textile Co</td>\n",
       "      <td>Nobel Textile Co, 719 E 9th St, Los Angeles, C...</td>\n",
       "      <td>0x80c2c632f933b073:0xc31785961fe826a6</td>\n",
       "      <td>34.036694</td>\n",
       "      <td>-118.249421</td>\n",
       "      <td>[Fabric store]</td>\n",
       "      <td>4.3</td>\n",
       "      <td>7</td>\n",
       "      <td>Open ⋅ Closes 5PM</td>\n",
       "      <td>California</td>\n",
       "    </tr>\n",
       "    <tr>\n",
       "      <th>2</th>\n",
       "      <td>Matrix International Textiles</td>\n",
       "      <td>Matrix International Textiles, 1363 S Bonnie B...</td>\n",
       "      <td>0x80c2cf163db6bc89:0x219484e2edbcfa41</td>\n",
       "      <td>34.015505</td>\n",
       "      <td>-118.181839</td>\n",
       "      <td>[Fabric store]</td>\n",
       "      <td>3.5</td>\n",
       "      <td>6</td>\n",
       "      <td>Open ⋅ Closes 5:30PM</td>\n",
       "      <td>California</td>\n",
       "    </tr>\n",
       "  </tbody>\n",
       "</table>\n",
       "</div>"
      ],
      "text/plain": [
       "                            name  \\\n",
       "0                   San Soo Dang   \n",
       "1               Nobel Textile Co   \n",
       "2  Matrix International Textiles   \n",
       "\n",
       "                                             address  \\\n",
       "0  San Soo Dang, 761 S Vermont Ave, Los Angeles, ...   \n",
       "1  Nobel Textile Co, 719 E 9th St, Los Angeles, C...   \n",
       "2  Matrix International Textiles, 1363 S Bonnie B...   \n",
       "\n",
       "                                 gmap_id   latitude   longitude  \\\n",
       "0  0x80c2c778e3b73d33:0xbdc58662a4a97d49  34.058092  -118.29213   \n",
       "1  0x80c2c632f933b073:0xc31785961fe826a6  34.036694 -118.249421   \n",
       "2  0x80c2cf163db6bc89:0x219484e2edbcfa41  34.015505 -118.181839   \n",
       "\n",
       "              category avg_rating num_of_reviews                 state  \\\n",
       "0  [Korean restaurant]        4.4             18     Open ⋅ Closes 6PM   \n",
       "1       [Fabric store]        4.3              7     Open ⋅ Closes 5PM   \n",
       "2       [Fabric store]        3.5              6  Open ⋅ Closes 5:30PM   \n",
       "\n",
       "       estado  \n",
       "0  California  \n",
       "1  California  \n",
       "2  California  "
      ]
     },
     "execution_count": 12,
     "metadata": {},
     "output_type": "execute_result"
    }
   ],
   "source": [
    "df_metadata.head(3)"
   ]
  },
  {
   "cell_type": "markdown",
   "metadata": {},
   "source": [
    "Vamos a filtrar la información del dataframe por el tipo de negocio que queramos estudiar, en este caso los restaurantes. Por lo que consideramos 2 palabras clave, *restaurant* y *food* para tener las categorías mas importantes."
   ]
  },
  {
   "cell_type": "code",
   "execution_count": 13,
   "metadata": {},
   "outputs": [
    {
     "name": "stdout",
     "output_type": "stream",
     "text": [
      "<class 'pandas.core.frame.DataFrame'>\n",
      "Index: 319632 entries, 0 to 319880\n",
      "Data columns (total 10 columns):\n",
      " #   Column          Non-Null Count   Dtype \n",
      "---  ------          --------------   ----- \n",
      " 0   name            319630 non-null  object\n",
      " 1   address         316855 non-null  object\n",
      " 2   gmap_id         319632 non-null  object\n",
      " 3   latitude        319632 non-null  object\n",
      " 4   longitude       319632 non-null  object\n",
      " 5   category        319632 non-null  object\n",
      " 6   avg_rating      319632 non-null  object\n",
      " 7   num_of_reviews  319632 non-null  object\n",
      " 8   state           279582 non-null  object\n",
      " 9   estado          319632 non-null  object\n",
      "dtypes: object(10)\n",
      "memory usage: 26.8+ MB\n"
     ]
    }
   ],
   "source": [
    "df_metadata.info()"
   ]
  },
  {
   "cell_type": "code",
   "execution_count": 63,
   "metadata": {},
   "outputs": [],
   "source": [
    "df_filtered=df_metadata.copy()\n",
    "#Definimos las palabras claves\n",
    "palabras_claves = ['restaurant', 'food','steakhouse','mexican','pizzeria','american','asian']\n",
    "#Expando categoría\n",
    "\n",
    "#Genero una función para filtrar las palabras claves\n",
    "def filter_list_by_keywords(lst, palabras_claves):\n",
    "    return [word for word in lst if any(palabra.lower() in word.lower() for palabra in palabras_claves)]\n",
    "\n",
    "df_filtered['category'] = df_filtered['category'].apply(lambda x: filter_list_by_keywords(x, palabras_claves))"
   ]
  },
  {
   "cell_type": "code",
   "execution_count": 64,
   "metadata": {},
   "outputs": [],
   "source": [
    "df_filtered = df_filtered[df_filtered['category'].apply(lambda x: len(x) > 0)]"
   ]
  },
  {
   "cell_type": "code",
   "execution_count": 65,
   "metadata": {},
   "outputs": [],
   "source": [
    "#abrimos el diccionario categorias\n",
    "df_dicc=pd.read_excel(r'E:\\Data Science\\PF\\Diccionario Categorías.xlsx')\n"
   ]
  },
  {
   "cell_type": "code",
   "execution_count": 66,
   "metadata": {},
   "outputs": [
    {
     "data": {
      "text/plain": [
       "\"#primero agrupamos por traduccion\\ndf_dicc = df_dicc.groupby('TRADUCCION').agg({'ORIGINAL': list}).reset_index()\\ndicc_categorias = df_dicc.set_index('TRADUCCION')['ORIGINAL'].to_dict()\""
      ]
     },
     "execution_count": 66,
     "metadata": {},
     "output_type": "execute_result"
    }
   ],
   "source": [
    "'''#primero agrupamos por traduccion\n",
    "df_dicc = df_dicc.groupby('TRADUCCION').agg({'ORIGINAL': list}).reset_index()\n",
    "dicc_categorias = df_dicc.set_index('TRADUCCION')['ORIGINAL'].to_dict()'''"
   ]
  },
  {
   "cell_type": "code",
   "execution_count": 67,
   "metadata": {},
   "outputs": [],
   "source": [
    "#hacemos un explode la columna categorias\n",
    "df_filtered = df_filtered.explode('category')"
   ]
  },
  {
   "cell_type": "code",
   "execution_count": 68,
   "metadata": {},
   "outputs": [],
   "source": [
    "df_filtered=df_filtered.copy()\n",
    "df_filtered=df_filtered.merge(df_dicc, left_on='category', right_on='ORIGINAL', how='left')\n",
    "df_filtered.drop(columns=['ORIGINAL','category'],inplace=True)\n",
    "df_filtered.rename(columns={'TRADUCCION':'category'},inplace=True)\n",
    "df_filtered.dropna(subset='category',inplace=True)"
   ]
  },
  {
   "cell_type": "code",
   "execution_count": 69,
   "metadata": {},
   "outputs": [
    {
     "data": {
      "text/plain": [
       "category\n",
       "Fast Food         8337\n",
       "Italian           6732\n",
       "East Asian        5134\n",
       "Mexican           4822\n",
       "American          4507\n",
       "Chinese           2943\n",
       "Veggie Vegan      2780\n",
       "Caribbean         1504\n",
       "Latin American     789\n",
       "Middle East        597\n",
       "Indian             472\n",
       "Spanish            249\n",
       "French             202\n",
       "Greek              182\n",
       "Jew                168\n",
       "African            147\n",
       "Name: count, dtype: int64"
      ]
     },
     "execution_count": 69,
     "metadata": {},
     "output_type": "execute_result"
    }
   ],
   "source": [
    "prueba['category'].value_counts()"
   ]
  },
  {
   "cell_type": "code",
   "execution_count": 70,
   "metadata": {},
   "outputs": [
    {
     "data": {
      "text/plain": [
       "16"
      ]
     },
     "execution_count": 70,
     "metadata": {},
     "output_type": "execute_result"
    }
   ],
   "source": [
    "prueba['category'].nunique()"
   ]
  },
  {
   "cell_type": "code",
   "execution_count": 71,
   "metadata": {},
   "outputs": [
    {
     "data": {
      "text/plain": [
       "16"
      ]
     },
     "execution_count": 71,
     "metadata": {},
     "output_type": "execute_result"
    }
   ],
   "source": [
    "df_dicc['TRADUCCION'].nunique()"
   ]
  },
  {
   "cell_type": "code",
   "execution_count": 72,
   "metadata": {},
   "outputs": [
    {
     "data": {
      "text/plain": [
       "category\n",
       "Fast Food         8337\n",
       "Italian           6732\n",
       "East Asian        5134\n",
       "Mexican           4822\n",
       "American          4507\n",
       "Chinese           2943\n",
       "Veggie Vegan      2780\n",
       "Caribbean         1504\n",
       "Latin American     789\n",
       "Middle East        597\n",
       "Indian             472\n",
       "Spanish            249\n",
       "French             202\n",
       "Greek              182\n",
       "Jew                168\n",
       "African            147\n",
       "Name: count, dtype: int64"
      ]
     },
     "execution_count": 72,
     "metadata": {},
     "output_type": "execute_result"
    }
   ],
   "source": [
    "#Verificamos los tipo de datos de categoria\n",
    "cantidad=df_filtered.explode('category')\n",
    "cantidad['category'].value_counts()"
   ]
  },
  {
   "cell_type": "code",
   "execution_count": 73,
   "metadata": {},
   "outputs": [],
   "source": [
    "df_filtered.reset_index(drop=True, inplace=True)"
   ]
  },
  {
   "cell_type": "markdown",
   "metadata": {},
   "source": [
    "Eliminamos a continuación los restaurantes que están permantemente cerrados."
   ]
  },
  {
   "cell_type": "code",
   "execution_count": 74,
   "metadata": {},
   "outputs": [],
   "source": [
    "df_filtered=df_filtered[df_filtered['state']!='Permanently closed']"
   ]
  },
  {
   "cell_type": "markdown",
   "metadata": {},
   "source": [
    "Analizamos los duplicados"
   ]
  },
  {
   "cell_type": "code",
   "execution_count": 75,
   "metadata": {},
   "outputs": [
    {
     "data": {
      "text/plain": [
       "8958"
      ]
     },
     "execution_count": 75,
     "metadata": {},
     "output_type": "execute_result"
    }
   ],
   "source": [
    "df_filtered['gmap_id'].duplicated().sum()"
   ]
  },
  {
   "cell_type": "markdown",
   "metadata": {},
   "source": [
    "Como vemos no tenemos dos restaurants con el mismo gmap_id por lo que esto esta en lo correcto."
   ]
  },
  {
   "cell_type": "code",
   "execution_count": 76,
   "metadata": {},
   "outputs": [
    {
     "data": {
      "text/plain": [
       "15320"
      ]
     },
     "execution_count": 76,
     "metadata": {},
     "output_type": "execute_result"
    }
   ],
   "source": [
    "df_filtered['name'].duplicated().sum()"
   ]
  },
  {
   "cell_type": "code",
   "execution_count": 77,
   "metadata": {},
   "outputs": [
    {
     "data": {
      "text/html": [
       "<div>\n",
       "<style scoped>\n",
       "    .dataframe tbody tr th:only-of-type {\n",
       "        vertical-align: middle;\n",
       "    }\n",
       "\n",
       "    .dataframe tbody tr th {\n",
       "        vertical-align: top;\n",
       "    }\n",
       "\n",
       "    .dataframe thead th {\n",
       "        text-align: right;\n",
       "    }\n",
       "</style>\n",
       "<table border=\"1\" class=\"dataframe\">\n",
       "  <thead>\n",
       "    <tr style=\"text-align: right;\">\n",
       "      <th></th>\n",
       "      <th>name</th>\n",
       "      <th>address</th>\n",
       "      <th>gmap_id</th>\n",
       "      <th>latitude</th>\n",
       "      <th>longitude</th>\n",
       "      <th>avg_rating</th>\n",
       "      <th>num_of_reviews</th>\n",
       "      <th>state</th>\n",
       "      <th>estado</th>\n",
       "      <th>category</th>\n",
       "    </tr>\n",
       "  </thead>\n",
       "  <tbody>\n",
       "    <tr>\n",
       "      <th>6</th>\n",
       "      <td>Cowboy Burgers &amp; BBQ</td>\n",
       "      <td>Cowboy Burgers &amp; BBQ, 13101 Ramona Blvd, Baldw...</td>\n",
       "      <td>0x80c2d765f8c90a3d:0x16afb75943e7ad50</td>\n",
       "      <td>34.079995</td>\n",
       "      <td>-117.988951</td>\n",
       "      <td>3.7</td>\n",
       "      <td>38</td>\n",
       "      <td>Closed ⋅ Opens 6AM</td>\n",
       "      <td>California</td>\n",
       "      <td>American</td>\n",
       "    </tr>\n",
       "    <tr>\n",
       "      <th>7</th>\n",
       "      <td>Cowboy Burgers &amp; BBQ</td>\n",
       "      <td>Cowboy Burgers &amp; BBQ, 13101 Ramona Blvd, Baldw...</td>\n",
       "      <td>0x80c2d765f8c90a3d:0x16afb75943e7ad50</td>\n",
       "      <td>34.079995</td>\n",
       "      <td>-117.988951</td>\n",
       "      <td>3.7</td>\n",
       "      <td>38</td>\n",
       "      <td>Closed ⋅ Opens 6AM</td>\n",
       "      <td>California</td>\n",
       "      <td>American</td>\n",
       "    </tr>\n",
       "    <tr>\n",
       "      <th>8</th>\n",
       "      <td>Cowboy Burgers &amp; BBQ</td>\n",
       "      <td>Cowboy Burgers &amp; BBQ, 13101 Ramona Blvd, Baldw...</td>\n",
       "      <td>0x80c2d765f8c90a3d:0x16afb75943e7ad50</td>\n",
       "      <td>34.079995</td>\n",
       "      <td>-117.988951</td>\n",
       "      <td>3.7</td>\n",
       "      <td>38</td>\n",
       "      <td>Closed ⋅ Opens 6AM</td>\n",
       "      <td>California</td>\n",
       "      <td>Fast Food</td>\n",
       "    </tr>\n",
       "    <tr>\n",
       "      <th>9</th>\n",
       "      <td>Cowboy Burgers &amp; BBQ</td>\n",
       "      <td>Cowboy Burgers &amp; BBQ, 13101 Ramona Blvd, Baldw...</td>\n",
       "      <td>0x80c2d765f8c90a3d:0x16afb75943e7ad50</td>\n",
       "      <td>34.079995</td>\n",
       "      <td>-117.988951</td>\n",
       "      <td>3.7</td>\n",
       "      <td>38</td>\n",
       "      <td>Closed ⋅ Opens 6AM</td>\n",
       "      <td>California</td>\n",
       "      <td>Mexican</td>\n",
       "    </tr>\n",
       "    <tr>\n",
       "      <th>13</th>\n",
       "      <td>Wawa</td>\n",
       "      <td>Wawa, 870 2nd St Pike, Richboro, PA 18954</td>\n",
       "      <td>0x89c6ac87db2a14b9:0x574dceb7c72ce463</td>\n",
       "      <td>40.210823</td>\n",
       "      <td>-75.01208</td>\n",
       "      <td>3.6</td>\n",
       "      <td>34</td>\n",
       "      <td>Open 24 hours</td>\n",
       "      <td>Pennsylvania</td>\n",
       "      <td>Fast Food</td>\n",
       "    </tr>\n",
       "    <tr>\n",
       "      <th>...</th>\n",
       "      <td>...</td>\n",
       "      <td>...</td>\n",
       "      <td>...</td>\n",
       "      <td>...</td>\n",
       "      <td>...</td>\n",
       "      <td>...</td>\n",
       "      <td>...</td>\n",
       "      <td>...</td>\n",
       "      <td>...</td>\n",
       "      <td>...</td>\n",
       "    </tr>\n",
       "    <tr>\n",
       "      <th>39554</th>\n",
       "      <td>Kyuramen</td>\n",
       "      <td>Kyuramen, 210 E 14th St, New York, NY 10003</td>\n",
       "      <td>0x89c2595ad18df43d:0x8989aa9433faaaca</td>\n",
       "      <td>40.732821</td>\n",
       "      <td>-73.986808</td>\n",
       "      <td>4.5</td>\n",
       "      <td>98</td>\n",
       "      <td>Open ⋅ Closes 11PM</td>\n",
       "      <td>New_York</td>\n",
       "      <td>East Asian</td>\n",
       "    </tr>\n",
       "    <tr>\n",
       "      <th>39556</th>\n",
       "      <td>Subway</td>\n",
       "      <td>Subway, Syracuse University, 720 University Av...</td>\n",
       "      <td>0x89d9f3a1b3373329:0xeb55367bab55c39</td>\n",
       "      <td>43.042096</td>\n",
       "      <td>-76.134719</td>\n",
       "      <td>3.5</td>\n",
       "      <td>28</td>\n",
       "      <td>Open ⋅ Closes 7PM</td>\n",
       "      <td>New_York</td>\n",
       "      <td>Fast Food</td>\n",
       "    </tr>\n",
       "    <tr>\n",
       "      <th>39558</th>\n",
       "      <td>Luthun</td>\n",
       "      <td>Luthun, 432 E 13th St, New York, NY 10009</td>\n",
       "      <td>0x89c2592cf2935ed9:0x6672264426649f94</td>\n",
       "      <td>40.729911</td>\n",
       "      <td>-73.981883</td>\n",
       "      <td>4.8</td>\n",
       "      <td>68</td>\n",
       "      <td>Closed ⋅ Opens 5:30PM</td>\n",
       "      <td>New_York</td>\n",
       "      <td>American</td>\n",
       "    </tr>\n",
       "    <tr>\n",
       "      <th>39559</th>\n",
       "      <td>Luthun</td>\n",
       "      <td>Luthun, 432 E 13th St, New York, NY 10009</td>\n",
       "      <td>0x89c2592cf2935ed9:0x6672264426649f94</td>\n",
       "      <td>40.729911</td>\n",
       "      <td>-73.981883</td>\n",
       "      <td>4.8</td>\n",
       "      <td>68</td>\n",
       "      <td>Closed ⋅ Opens 5:30PM</td>\n",
       "      <td>New_York</td>\n",
       "      <td>Veggie Vegan</td>\n",
       "    </tr>\n",
       "    <tr>\n",
       "      <th>39563</th>\n",
       "      <td>China King Express</td>\n",
       "      <td>China King Express, 6938 Erie Rd, Derby, NY 14047</td>\n",
       "      <td>0x89d31f176b64da79:0x202faca0f650e880</td>\n",
       "      <td>42.698185</td>\n",
       "      <td>-78.988253</td>\n",
       "      <td>4.1</td>\n",
       "      <td>118</td>\n",
       "      <td>Open ⋅ Closes 11PM</td>\n",
       "      <td>New_York</td>\n",
       "      <td>Chinese</td>\n",
       "    </tr>\n",
       "  </tbody>\n",
       "</table>\n",
       "<p>15320 rows × 10 columns</p>\n",
       "</div>"
      ],
      "text/plain": [
       "                       name  \\\n",
       "6      Cowboy Burgers & BBQ   \n",
       "7      Cowboy Burgers & BBQ   \n",
       "8      Cowboy Burgers & BBQ   \n",
       "9      Cowboy Burgers & BBQ   \n",
       "13                     Wawa   \n",
       "...                     ...   \n",
       "39554              Kyuramen   \n",
       "39556                Subway   \n",
       "39558                Luthun   \n",
       "39559                Luthun   \n",
       "39563    China King Express   \n",
       "\n",
       "                                                 address  \\\n",
       "6      Cowboy Burgers & BBQ, 13101 Ramona Blvd, Baldw...   \n",
       "7      Cowboy Burgers & BBQ, 13101 Ramona Blvd, Baldw...   \n",
       "8      Cowboy Burgers & BBQ, 13101 Ramona Blvd, Baldw...   \n",
       "9      Cowboy Burgers & BBQ, 13101 Ramona Blvd, Baldw...   \n",
       "13             Wawa, 870 2nd St Pike, Richboro, PA 18954   \n",
       "...                                                  ...   \n",
       "39554        Kyuramen, 210 E 14th St, New York, NY 10003   \n",
       "39556  Subway, Syracuse University, 720 University Av...   \n",
       "39558          Luthun, 432 E 13th St, New York, NY 10009   \n",
       "39559          Luthun, 432 E 13th St, New York, NY 10009   \n",
       "39563  China King Express, 6938 Erie Rd, Derby, NY 14047   \n",
       "\n",
       "                                     gmap_id   latitude   longitude  \\\n",
       "6      0x80c2d765f8c90a3d:0x16afb75943e7ad50  34.079995 -117.988951   \n",
       "7      0x80c2d765f8c90a3d:0x16afb75943e7ad50  34.079995 -117.988951   \n",
       "8      0x80c2d765f8c90a3d:0x16afb75943e7ad50  34.079995 -117.988951   \n",
       "9      0x80c2d765f8c90a3d:0x16afb75943e7ad50  34.079995 -117.988951   \n",
       "13     0x89c6ac87db2a14b9:0x574dceb7c72ce463  40.210823   -75.01208   \n",
       "...                                      ...        ...         ...   \n",
       "39554  0x89c2595ad18df43d:0x8989aa9433faaaca  40.732821  -73.986808   \n",
       "39556   0x89d9f3a1b3373329:0xeb55367bab55c39  43.042096  -76.134719   \n",
       "39558  0x89c2592cf2935ed9:0x6672264426649f94  40.729911  -73.981883   \n",
       "39559  0x89c2592cf2935ed9:0x6672264426649f94  40.729911  -73.981883   \n",
       "39563  0x89d31f176b64da79:0x202faca0f650e880  42.698185  -78.988253   \n",
       "\n",
       "      avg_rating num_of_reviews                  state        estado  \\\n",
       "6            3.7             38     Closed ⋅ Opens 6AM    California   \n",
       "7            3.7             38     Closed ⋅ Opens 6AM    California   \n",
       "8            3.7             38     Closed ⋅ Opens 6AM    California   \n",
       "9            3.7             38     Closed ⋅ Opens 6AM    California   \n",
       "13           3.6             34          Open 24 hours  Pennsylvania   \n",
       "...          ...            ...                    ...           ...   \n",
       "39554        4.5             98     Open ⋅ Closes 11PM      New_York   \n",
       "39556        3.5             28      Open ⋅ Closes 7PM      New_York   \n",
       "39558        4.8             68  Closed ⋅ Opens 5:30PM      New_York   \n",
       "39559        4.8             68  Closed ⋅ Opens 5:30PM      New_York   \n",
       "39563        4.1            118     Open ⋅ Closes 11PM      New_York   \n",
       "\n",
       "           category  \n",
       "6          American  \n",
       "7          American  \n",
       "8         Fast Food  \n",
       "9           Mexican  \n",
       "13        Fast Food  \n",
       "...             ...  \n",
       "39554    East Asian  \n",
       "39556     Fast Food  \n",
       "39558      American  \n",
       "39559  Veggie Vegan  \n",
       "39563       Chinese  \n",
       "\n",
       "[15320 rows x 10 columns]"
      ]
     },
     "execution_count": 77,
     "metadata": {},
     "output_type": "execute_result"
    }
   ],
   "source": [
    "df_filtered[df_filtered['name'].duplicated()]"
   ]
  },
  {
   "cell_type": "markdown",
   "metadata": {},
   "source": [
    "Estos duplicados corresponden a grandes cadenas de comida."
   ]
  },
  {
   "cell_type": "code",
   "execution_count": 78,
   "metadata": {},
   "outputs": [],
   "source": [
    "df_prueba=df_filtered.copy()"
   ]
  },
  {
   "cell_type": "code",
   "execution_count": 79,
   "metadata": {},
   "outputs": [
    {
     "name": "stdout",
     "output_type": "stream",
     "text": [
      "<class 'pandas.core.frame.DataFrame'>\n",
      "Index: 30445 entries, 0 to 39564\n",
      "Data columns (total 10 columns):\n",
      " #   Column          Non-Null Count  Dtype \n",
      "---  ------          --------------  ----- \n",
      " 0   name            30445 non-null  object\n",
      " 1   address         30416 non-null  object\n",
      " 2   gmap_id         30445 non-null  object\n",
      " 3   latitude        30445 non-null  object\n",
      " 4   longitude       30445 non-null  object\n",
      " 5   avg_rating      30445 non-null  object\n",
      " 6   num_of_reviews  30445 non-null  object\n",
      " 7   state           28693 non-null  object\n",
      " 8   estado          30445 non-null  object\n",
      " 9   category        30445 non-null  object\n",
      "dtypes: object(10)\n",
      "memory usage: 2.6+ MB\n"
     ]
    }
   ],
   "source": [
    "df_prueba.info()"
   ]
  },
  {
   "cell_type": "markdown",
   "metadata": {},
   "source": [
    "Continuaremos con el análisis de la direccion para obtener la ciudad y el codigo postal."
   ]
  },
  {
   "cell_type": "code",
   "execution_count": 80,
   "metadata": {},
   "outputs": [
    {
     "data": {
      "text/html": [
       "<div>\n",
       "<style scoped>\n",
       "    .dataframe tbody tr th:only-of-type {\n",
       "        vertical-align: middle;\n",
       "    }\n",
       "\n",
       "    .dataframe tbody tr th {\n",
       "        vertical-align: top;\n",
       "    }\n",
       "\n",
       "    .dataframe thead th {\n",
       "        text-align: right;\n",
       "    }\n",
       "</style>\n",
       "<table border=\"1\" class=\"dataframe\">\n",
       "  <thead>\n",
       "    <tr style=\"text-align: right;\">\n",
       "      <th></th>\n",
       "      <th>name</th>\n",
       "      <th>address</th>\n",
       "      <th>gmap_id</th>\n",
       "      <th>latitude</th>\n",
       "      <th>longitude</th>\n",
       "      <th>avg_rating</th>\n",
       "      <th>num_of_reviews</th>\n",
       "      <th>state</th>\n",
       "      <th>estado</th>\n",
       "      <th>category</th>\n",
       "    </tr>\n",
       "  </thead>\n",
       "  <tbody>\n",
       "    <tr>\n",
       "      <th>0</th>\n",
       "      <td>San Soo Dang</td>\n",
       "      <td>San Soo Dang, 761 S Vermont Ave, Los Angeles, ...</td>\n",
       "      <td>0x80c2c778e3b73d33:0xbdc58662a4a97d49</td>\n",
       "      <td>34.058092</td>\n",
       "      <td>-118.29213</td>\n",
       "      <td>4.4</td>\n",
       "      <td>18</td>\n",
       "      <td>Open ⋅ Closes 6PM</td>\n",
       "      <td>California</td>\n",
       "      <td>East Asian</td>\n",
       "    </tr>\n",
       "    <tr>\n",
       "      <th>1</th>\n",
       "      <td>Studio 34 Nutrition</td>\n",
       "      <td>Studio 34 Nutrition, 3021 A, 34th St, Lubbock,...</td>\n",
       "      <td>0x86fe6dd0642d44eb:0xeaceade94f24cc15</td>\n",
       "      <td>33.563039</td>\n",
       "      <td>-101.880718</td>\n",
       "      <td>5</td>\n",
       "      <td>14</td>\n",
       "      <td>Open ⋅ Closes 2PM</td>\n",
       "      <td>Texas</td>\n",
       "      <td>Veggie Vegan</td>\n",
       "    </tr>\n",
       "    <tr>\n",
       "      <th>2</th>\n",
       "      <td>Bushibushi Dimsum Place</td>\n",
       "      <td>Bushibushi Dimsum Place, 4930 Belt Line Rd, Da...</td>\n",
       "      <td>0x864c2161e9d8649b:0x22061733a9698bcb</td>\n",
       "      <td>32.953106</td>\n",
       "      <td>-96.827689</td>\n",
       "      <td>4.9</td>\n",
       "      <td>28</td>\n",
       "      <td>Closed ⋅ Opens 11AM</td>\n",
       "      <td>Texas</td>\n",
       "      <td>Chinese</td>\n",
       "    </tr>\n",
       "    <tr>\n",
       "      <th>3</th>\n",
       "      <td>Dunkin'</td>\n",
       "      <td>Dunkin', 4008 Bell Blvd, Queens, NY 11361</td>\n",
       "      <td>0x89c261f60bdf13db:0x38da730e4687a97b</td>\n",
       "      <td>40.763985</td>\n",
       "      <td>-73.77143</td>\n",
       "      <td>3.5</td>\n",
       "      <td>8</td>\n",
       "      <td>Open ⋅ Closes 7PM</td>\n",
       "      <td>New_York</td>\n",
       "      <td>Fast Food</td>\n",
       "    </tr>\n",
       "    <tr>\n",
       "      <th>5</th>\n",
       "      <td>Cowboy Burgers &amp; BBQ</td>\n",
       "      <td>Cowboy Burgers &amp; BBQ, 13101 Ramona Blvd, Baldw...</td>\n",
       "      <td>0x80c2d765f8c90a3d:0x16afb75943e7ad50</td>\n",
       "      <td>34.079995</td>\n",
       "      <td>-117.988951</td>\n",
       "      <td>3.7</td>\n",
       "      <td>38</td>\n",
       "      <td>Closed ⋅ Opens 6AM</td>\n",
       "      <td>California</td>\n",
       "      <td>Fast Food</td>\n",
       "    </tr>\n",
       "  </tbody>\n",
       "</table>\n",
       "</div>"
      ],
      "text/plain": [
       "                      name                                            address  \\\n",
       "0             San Soo Dang  San Soo Dang, 761 S Vermont Ave, Los Angeles, ...   \n",
       "1      Studio 34 Nutrition  Studio 34 Nutrition, 3021 A, 34th St, Lubbock,...   \n",
       "2  Bushibushi Dimsum Place  Bushibushi Dimsum Place, 4930 Belt Line Rd, Da...   \n",
       "3                  Dunkin'          Dunkin', 4008 Bell Blvd, Queens, NY 11361   \n",
       "5     Cowboy Burgers & BBQ  Cowboy Burgers & BBQ, 13101 Ramona Blvd, Baldw...   \n",
       "\n",
       "                                 gmap_id   latitude   longitude avg_rating  \\\n",
       "0  0x80c2c778e3b73d33:0xbdc58662a4a97d49  34.058092  -118.29213        4.4   \n",
       "1  0x86fe6dd0642d44eb:0xeaceade94f24cc15  33.563039 -101.880718          5   \n",
       "2  0x864c2161e9d8649b:0x22061733a9698bcb  32.953106  -96.827689        4.9   \n",
       "3  0x89c261f60bdf13db:0x38da730e4687a97b  40.763985   -73.77143        3.5   \n",
       "5  0x80c2d765f8c90a3d:0x16afb75943e7ad50  34.079995 -117.988951        3.7   \n",
       "\n",
       "  num_of_reviews                state      estado      category  \n",
       "0             18    Open ⋅ Closes 6PM  California    East Asian  \n",
       "1             14    Open ⋅ Closes 2PM       Texas  Veggie Vegan  \n",
       "2             28  Closed ⋅ Opens 11AM       Texas       Chinese  \n",
       "3              8    Open ⋅ Closes 7PM    New_York     Fast Food  \n",
       "5             38   Closed ⋅ Opens 6AM  California     Fast Food  "
      ]
     },
     "execution_count": 80,
     "metadata": {},
     "output_type": "execute_result"
    }
   ],
   "source": [
    "df_filtered.head()"
   ]
  },
  {
   "cell_type": "code",
   "execution_count": 81,
   "metadata": {},
   "outputs": [],
   "source": [
    "#Vamos a extraer la ciudad y el código postal de la columna address\n",
    "df_filtered['city'] = df_filtered['address'].str.extract(r',\\s*([^,]+),\\s*[A-Z]{2}\\s+\\d{5}', expand=False)\n",
    "df_filtered['zip_code'] = df_filtered['address'].str.extract(r'(\\d{5})$', expand=False)"
   ]
  },
  {
   "cell_type": "markdown",
   "metadata": {},
   "source": [
    "Borramos ahora la columna *state* que no nos sirve mas y verificamos los nulos."
   ]
  },
  {
   "cell_type": "code",
   "execution_count": 82,
   "metadata": {},
   "outputs": [],
   "source": [
    "df_filtered.drop(columns='state', inplace=True)"
   ]
  },
  {
   "cell_type": "code",
   "execution_count": 83,
   "metadata": {},
   "outputs": [
    {
     "data": {
      "text/plain": [
       "name                 0\n",
       "address             29\n",
       "gmap_id              0\n",
       "latitude             0\n",
       "longitude            0\n",
       "avg_rating           0\n",
       "num_of_reviews       0\n",
       "estado               0\n",
       "category             0\n",
       "city               130\n",
       "zip_code          4442\n",
       "dtype: int64"
      ]
     },
     "execution_count": 83,
     "metadata": {},
     "output_type": "execute_result"
    }
   ],
   "source": [
    "df_filtered.isnull().sum()"
   ]
  },
  {
   "cell_type": "code",
   "execution_count": 84,
   "metadata": {},
   "outputs": [],
   "source": [
    "#Creamos una funcion para verificar la ciudad y el estado\n",
    "def get_location(row):\n",
    "    coordinates = [(row['latitude'], row['longitude'])]\n",
    "    location = reverse_geocode.search(coordinates)[0]\n",
    "    if location['country_code'] == 'US':\n",
    "        return pd.Series([location['city'], location['state']])\n",
    "    else:\n",
    "        return pd.Series([None, None])\n",
    "\n",
    "\n",
    "\n",
    "df_filtered[['city', 'estado']] = df_filtered.apply(get_location, axis=1)"
   ]
  },
  {
   "cell_type": "code",
   "execution_count": 85,
   "metadata": {},
   "outputs": [
    {
     "data": {
      "text/html": [
       "<div>\n",
       "<style scoped>\n",
       "    .dataframe tbody tr th:only-of-type {\n",
       "        vertical-align: middle;\n",
       "    }\n",
       "\n",
       "    .dataframe tbody tr th {\n",
       "        vertical-align: top;\n",
       "    }\n",
       "\n",
       "    .dataframe thead th {\n",
       "        text-align: right;\n",
       "    }\n",
       "</style>\n",
       "<table border=\"1\" class=\"dataframe\">\n",
       "  <thead>\n",
       "    <tr style=\"text-align: right;\">\n",
       "      <th></th>\n",
       "      <th>name</th>\n",
       "      <th>address</th>\n",
       "      <th>gmap_id</th>\n",
       "      <th>latitude</th>\n",
       "      <th>longitude</th>\n",
       "      <th>avg_rating</th>\n",
       "      <th>num_of_reviews</th>\n",
       "      <th>estado</th>\n",
       "      <th>category</th>\n",
       "      <th>city</th>\n",
       "      <th>zip_code</th>\n",
       "    </tr>\n",
       "  </thead>\n",
       "  <tbody>\n",
       "    <tr>\n",
       "      <th>0</th>\n",
       "      <td>San Soo Dang</td>\n",
       "      <td>San Soo Dang, 761 S Vermont Ave, Los Angeles, ...</td>\n",
       "      <td>0x80c2c778e3b73d33:0xbdc58662a4a97d49</td>\n",
       "      <td>34.058092</td>\n",
       "      <td>-118.29213</td>\n",
       "      <td>4.4</td>\n",
       "      <td>18</td>\n",
       "      <td>California</td>\n",
       "      <td>East Asian</td>\n",
       "      <td>Koreatown</td>\n",
       "      <td>90005</td>\n",
       "    </tr>\n",
       "    <tr>\n",
       "      <th>1</th>\n",
       "      <td>Studio 34 Nutrition</td>\n",
       "      <td>Studio 34 Nutrition, 3021 A, 34th St, Lubbock,...</td>\n",
       "      <td>0x86fe6dd0642d44eb:0xeaceade94f24cc15</td>\n",
       "      <td>33.563039</td>\n",
       "      <td>-101.880718</td>\n",
       "      <td>5</td>\n",
       "      <td>14</td>\n",
       "      <td>Texas</td>\n",
       "      <td>Veggie Vegan</td>\n",
       "      <td>Lubbock</td>\n",
       "      <td>79410</td>\n",
       "    </tr>\n",
       "    <tr>\n",
       "      <th>2</th>\n",
       "      <td>Bushibushi Dimsum Place</td>\n",
       "      <td>Bushibushi Dimsum Place, 4930 Belt Line Rd, Da...</td>\n",
       "      <td>0x864c2161e9d8649b:0x22061733a9698bcb</td>\n",
       "      <td>32.953106</td>\n",
       "      <td>-96.827689</td>\n",
       "      <td>4.9</td>\n",
       "      <td>28</td>\n",
       "      <td>Texas</td>\n",
       "      <td>Chinese</td>\n",
       "      <td>Addison</td>\n",
       "      <td>75254</td>\n",
       "    </tr>\n",
       "    <tr>\n",
       "      <th>3</th>\n",
       "      <td>Dunkin'</td>\n",
       "      <td>Dunkin', 4008 Bell Blvd, Queens, NY 11361</td>\n",
       "      <td>0x89c261f60bdf13db:0x38da730e4687a97b</td>\n",
       "      <td>40.763985</td>\n",
       "      <td>-73.77143</td>\n",
       "      <td>3.5</td>\n",
       "      <td>8</td>\n",
       "      <td>New York</td>\n",
       "      <td>Fast Food</td>\n",
       "      <td>Bayside</td>\n",
       "      <td>11361</td>\n",
       "    </tr>\n",
       "    <tr>\n",
       "      <th>5</th>\n",
       "      <td>Cowboy Burgers &amp; BBQ</td>\n",
       "      <td>Cowboy Burgers &amp; BBQ, 13101 Ramona Blvd, Baldw...</td>\n",
       "      <td>0x80c2d765f8c90a3d:0x16afb75943e7ad50</td>\n",
       "      <td>34.079995</td>\n",
       "      <td>-117.988951</td>\n",
       "      <td>3.7</td>\n",
       "      <td>38</td>\n",
       "      <td>California</td>\n",
       "      <td>Fast Food</td>\n",
       "      <td>Baldwin Park</td>\n",
       "      <td>91706</td>\n",
       "    </tr>\n",
       "    <tr>\n",
       "      <th>...</th>\n",
       "      <td>...</td>\n",
       "      <td>...</td>\n",
       "      <td>...</td>\n",
       "      <td>...</td>\n",
       "      <td>...</td>\n",
       "      <td>...</td>\n",
       "      <td>...</td>\n",
       "      <td>...</td>\n",
       "      <td>...</td>\n",
       "      <td>...</td>\n",
       "      <td>...</td>\n",
       "    </tr>\n",
       "    <tr>\n",
       "      <th>39558</th>\n",
       "      <td>Luthun</td>\n",
       "      <td>Luthun, 432 E 13th St, New York, NY 10009</td>\n",
       "      <td>0x89c2592cf2935ed9:0x6672264426649f94</td>\n",
       "      <td>40.729911</td>\n",
       "      <td>-73.981883</td>\n",
       "      <td>4.8</td>\n",
       "      <td>68</td>\n",
       "      <td>New York</td>\n",
       "      <td>American</td>\n",
       "      <td>East Village</td>\n",
       "      <td>10009</td>\n",
       "    </tr>\n",
       "    <tr>\n",
       "      <th>39559</th>\n",
       "      <td>Luthun</td>\n",
       "      <td>Luthun, 432 E 13th St, New York, NY 10009</td>\n",
       "      <td>0x89c2592cf2935ed9:0x6672264426649f94</td>\n",
       "      <td>40.729911</td>\n",
       "      <td>-73.981883</td>\n",
       "      <td>4.8</td>\n",
       "      <td>68</td>\n",
       "      <td>New York</td>\n",
       "      <td>Veggie Vegan</td>\n",
       "      <td>East Village</td>\n",
       "      <td>10009</td>\n",
       "    </tr>\n",
       "    <tr>\n",
       "      <th>39562</th>\n",
       "      <td>Jia</td>\n",
       "      <td>Jia, 23 Essex St, New York, NY 10002</td>\n",
       "      <td>0x89c25a29eb1373a1:0x3afffd62d2b9a1dd</td>\n",
       "      <td>40.715434</td>\n",
       "      <td>-73.990083</td>\n",
       "      <td>4.8</td>\n",
       "      <td>68</td>\n",
       "      <td>New York</td>\n",
       "      <td>East Asian</td>\n",
       "      <td>Chinatown</td>\n",
       "      <td>10002</td>\n",
       "    </tr>\n",
       "    <tr>\n",
       "      <th>39563</th>\n",
       "      <td>China King Express</td>\n",
       "      <td>China King Express, 6938 Erie Rd, Derby, NY 14047</td>\n",
       "      <td>0x89d31f176b64da79:0x202faca0f650e880</td>\n",
       "      <td>42.698185</td>\n",
       "      <td>-78.988253</td>\n",
       "      <td>4.1</td>\n",
       "      <td>118</td>\n",
       "      <td>New York</td>\n",
       "      <td>Chinese</td>\n",
       "      <td>Angola</td>\n",
       "      <td>14047</td>\n",
       "    </tr>\n",
       "    <tr>\n",
       "      <th>39564</th>\n",
       "      <td>House of Gourmet -- 食全食美</td>\n",
       "      <td>House of Gourmet -- 食全食美, 2865 Sheridan Dr Sui...</td>\n",
       "      <td>0x89d373386b718fff:0xf82c90ef48e7b23</td>\n",
       "      <td>42.980251</td>\n",
       "      <td>-78.827337</td>\n",
       "      <td>4.3</td>\n",
       "      <td>58</td>\n",
       "      <td>New York</td>\n",
       "      <td>Chinese</td>\n",
       "      <td>Amherst</td>\n",
       "      <td>14150</td>\n",
       "    </tr>\n",
       "  </tbody>\n",
       "</table>\n",
       "<p>30445 rows × 11 columns</p>\n",
       "</div>"
      ],
      "text/plain": [
       "                           name  \\\n",
       "0                  San Soo Dang   \n",
       "1           Studio 34 Nutrition   \n",
       "2       Bushibushi Dimsum Place   \n",
       "3                       Dunkin'   \n",
       "5          Cowboy Burgers & BBQ   \n",
       "...                         ...   \n",
       "39558                    Luthun   \n",
       "39559                    Luthun   \n",
       "39562                       Jia   \n",
       "39563        China King Express   \n",
       "39564  House of Gourmet -- 食全食美   \n",
       "\n",
       "                                                 address  \\\n",
       "0      San Soo Dang, 761 S Vermont Ave, Los Angeles, ...   \n",
       "1      Studio 34 Nutrition, 3021 A, 34th St, Lubbock,...   \n",
       "2      Bushibushi Dimsum Place, 4930 Belt Line Rd, Da...   \n",
       "3              Dunkin', 4008 Bell Blvd, Queens, NY 11361   \n",
       "5      Cowboy Burgers & BBQ, 13101 Ramona Blvd, Baldw...   \n",
       "...                                                  ...   \n",
       "39558          Luthun, 432 E 13th St, New York, NY 10009   \n",
       "39559          Luthun, 432 E 13th St, New York, NY 10009   \n",
       "39562               Jia, 23 Essex St, New York, NY 10002   \n",
       "39563  China King Express, 6938 Erie Rd, Derby, NY 14047   \n",
       "39564  House of Gourmet -- 食全食美, 2865 Sheridan Dr Sui...   \n",
       "\n",
       "                                     gmap_id   latitude   longitude  \\\n",
       "0      0x80c2c778e3b73d33:0xbdc58662a4a97d49  34.058092  -118.29213   \n",
       "1      0x86fe6dd0642d44eb:0xeaceade94f24cc15  33.563039 -101.880718   \n",
       "2      0x864c2161e9d8649b:0x22061733a9698bcb  32.953106  -96.827689   \n",
       "3      0x89c261f60bdf13db:0x38da730e4687a97b  40.763985   -73.77143   \n",
       "5      0x80c2d765f8c90a3d:0x16afb75943e7ad50  34.079995 -117.988951   \n",
       "...                                      ...        ...         ...   \n",
       "39558  0x89c2592cf2935ed9:0x6672264426649f94  40.729911  -73.981883   \n",
       "39559  0x89c2592cf2935ed9:0x6672264426649f94  40.729911  -73.981883   \n",
       "39562  0x89c25a29eb1373a1:0x3afffd62d2b9a1dd  40.715434  -73.990083   \n",
       "39563  0x89d31f176b64da79:0x202faca0f650e880  42.698185  -78.988253   \n",
       "39564   0x89d373386b718fff:0xf82c90ef48e7b23  42.980251  -78.827337   \n",
       "\n",
       "      avg_rating num_of_reviews      estado      category          city  \\\n",
       "0            4.4             18  California    East Asian     Koreatown   \n",
       "1              5             14       Texas  Veggie Vegan       Lubbock   \n",
       "2            4.9             28       Texas       Chinese       Addison   \n",
       "3            3.5              8    New York     Fast Food       Bayside   \n",
       "5            3.7             38  California     Fast Food  Baldwin Park   \n",
       "...          ...            ...         ...           ...           ...   \n",
       "39558        4.8             68    New York      American  East Village   \n",
       "39559        4.8             68    New York  Veggie Vegan  East Village   \n",
       "39562        4.8             68    New York    East Asian     Chinatown   \n",
       "39563        4.1            118    New York       Chinese        Angola   \n",
       "39564        4.3             58    New York       Chinese       Amherst   \n",
       "\n",
       "      zip_code  \n",
       "0        90005  \n",
       "1        79410  \n",
       "2        75254  \n",
       "3        11361  \n",
       "5        91706  \n",
       "...        ...  \n",
       "39558    10009  \n",
       "39559    10009  \n",
       "39562    10002  \n",
       "39563    14047  \n",
       "39564    14150  \n",
       "\n",
       "[30445 rows x 11 columns]"
      ]
     },
     "execution_count": 85,
     "metadata": {},
     "output_type": "execute_result"
    }
   ],
   "source": [
    "df_filtered"
   ]
  },
  {
   "cell_type": "markdown",
   "metadata": {},
   "source": [
    "Los nulos que quedan se completaran con \"Sin Datos\" para que el áera de análisis haga su trabajo correspondiente."
   ]
  },
  {
   "cell_type": "code",
   "execution_count": 86,
   "metadata": {},
   "outputs": [],
   "source": [
    "#Completo los nulos con \"Sin Datos\"\n",
    "df_filtered.fillna('Sin Datos', inplace=True)"
   ]
  },
  {
   "cell_type": "code",
   "execution_count": 87,
   "metadata": {},
   "outputs": [
    {
     "data": {
      "text/html": [
       "<div>\n",
       "<style scoped>\n",
       "    .dataframe tbody tr th:only-of-type {\n",
       "        vertical-align: middle;\n",
       "    }\n",
       "\n",
       "    .dataframe tbody tr th {\n",
       "        vertical-align: top;\n",
       "    }\n",
       "\n",
       "    .dataframe thead th {\n",
       "        text-align: right;\n",
       "    }\n",
       "</style>\n",
       "<table border=\"1\" class=\"dataframe\">\n",
       "  <thead>\n",
       "    <tr style=\"text-align: right;\">\n",
       "      <th></th>\n",
       "      <th>name</th>\n",
       "      <th>address</th>\n",
       "      <th>gmap_id</th>\n",
       "      <th>latitude</th>\n",
       "      <th>longitude</th>\n",
       "      <th>avg_rating</th>\n",
       "      <th>num_of_reviews</th>\n",
       "      <th>estado</th>\n",
       "      <th>category</th>\n",
       "      <th>city</th>\n",
       "      <th>zip_code</th>\n",
       "    </tr>\n",
       "  </thead>\n",
       "  <tbody>\n",
       "    <tr>\n",
       "      <th>0</th>\n",
       "      <td>San Soo Dang</td>\n",
       "      <td>San Soo Dang, 761 S Vermont Ave, Los Angeles, ...</td>\n",
       "      <td>0x80c2c778e3b73d33:0xbdc58662a4a97d49</td>\n",
       "      <td>34.058092</td>\n",
       "      <td>-118.292130</td>\n",
       "      <td>4.4</td>\n",
       "      <td>18</td>\n",
       "      <td>California</td>\n",
       "      <td>East Asian</td>\n",
       "      <td>Koreatown</td>\n",
       "      <td>90005</td>\n",
       "    </tr>\n",
       "    <tr>\n",
       "      <th>1</th>\n",
       "      <td>Studio 34 Nutrition</td>\n",
       "      <td>Studio 34 Nutrition, 3021 A, 34th St, Lubbock,...</td>\n",
       "      <td>0x86fe6dd0642d44eb:0xeaceade94f24cc15</td>\n",
       "      <td>33.563039</td>\n",
       "      <td>-101.880718</td>\n",
       "      <td>5.0</td>\n",
       "      <td>14</td>\n",
       "      <td>Texas</td>\n",
       "      <td>Veggie Vegan</td>\n",
       "      <td>Lubbock</td>\n",
       "      <td>79410</td>\n",
       "    </tr>\n",
       "    <tr>\n",
       "      <th>2</th>\n",
       "      <td>Bushibushi Dimsum Place</td>\n",
       "      <td>Bushibushi Dimsum Place, 4930 Belt Line Rd, Da...</td>\n",
       "      <td>0x864c2161e9d8649b:0x22061733a9698bcb</td>\n",
       "      <td>32.953106</td>\n",
       "      <td>-96.827689</td>\n",
       "      <td>4.9</td>\n",
       "      <td>28</td>\n",
       "      <td>Texas</td>\n",
       "      <td>Chinese</td>\n",
       "      <td>Addison</td>\n",
       "      <td>75254</td>\n",
       "    </tr>\n",
       "    <tr>\n",
       "      <th>3</th>\n",
       "      <td>Dunkin'</td>\n",
       "      <td>Dunkin', 4008 Bell Blvd, Queens, NY 11361</td>\n",
       "      <td>0x89c261f60bdf13db:0x38da730e4687a97b</td>\n",
       "      <td>40.763985</td>\n",
       "      <td>-73.771430</td>\n",
       "      <td>3.5</td>\n",
       "      <td>8</td>\n",
       "      <td>New York</td>\n",
       "      <td>Fast Food</td>\n",
       "      <td>Bayside</td>\n",
       "      <td>11361</td>\n",
       "    </tr>\n",
       "    <tr>\n",
       "      <th>5</th>\n",
       "      <td>Cowboy Burgers &amp; BBQ</td>\n",
       "      <td>Cowboy Burgers &amp; BBQ, 13101 Ramona Blvd, Baldw...</td>\n",
       "      <td>0x80c2d765f8c90a3d:0x16afb75943e7ad50</td>\n",
       "      <td>34.079995</td>\n",
       "      <td>-117.988951</td>\n",
       "      <td>3.7</td>\n",
       "      <td>38</td>\n",
       "      <td>California</td>\n",
       "      <td>Fast Food</td>\n",
       "      <td>Baldwin Park</td>\n",
       "      <td>91706</td>\n",
       "    </tr>\n",
       "    <tr>\n",
       "      <th>...</th>\n",
       "      <td>...</td>\n",
       "      <td>...</td>\n",
       "      <td>...</td>\n",
       "      <td>...</td>\n",
       "      <td>...</td>\n",
       "      <td>...</td>\n",
       "      <td>...</td>\n",
       "      <td>...</td>\n",
       "      <td>...</td>\n",
       "      <td>...</td>\n",
       "      <td>...</td>\n",
       "    </tr>\n",
       "    <tr>\n",
       "      <th>39558</th>\n",
       "      <td>Luthun</td>\n",
       "      <td>Luthun, 432 E 13th St, New York, NY 10009</td>\n",
       "      <td>0x89c2592cf2935ed9:0x6672264426649f94</td>\n",
       "      <td>40.729911</td>\n",
       "      <td>-73.981883</td>\n",
       "      <td>4.8</td>\n",
       "      <td>68</td>\n",
       "      <td>New York</td>\n",
       "      <td>American</td>\n",
       "      <td>East Village</td>\n",
       "      <td>10009</td>\n",
       "    </tr>\n",
       "    <tr>\n",
       "      <th>39559</th>\n",
       "      <td>Luthun</td>\n",
       "      <td>Luthun, 432 E 13th St, New York, NY 10009</td>\n",
       "      <td>0x89c2592cf2935ed9:0x6672264426649f94</td>\n",
       "      <td>40.729911</td>\n",
       "      <td>-73.981883</td>\n",
       "      <td>4.8</td>\n",
       "      <td>68</td>\n",
       "      <td>New York</td>\n",
       "      <td>Veggie Vegan</td>\n",
       "      <td>East Village</td>\n",
       "      <td>10009</td>\n",
       "    </tr>\n",
       "    <tr>\n",
       "      <th>39562</th>\n",
       "      <td>Jia</td>\n",
       "      <td>Jia, 23 Essex St, New York, NY 10002</td>\n",
       "      <td>0x89c25a29eb1373a1:0x3afffd62d2b9a1dd</td>\n",
       "      <td>40.715434</td>\n",
       "      <td>-73.990083</td>\n",
       "      <td>4.8</td>\n",
       "      <td>68</td>\n",
       "      <td>New York</td>\n",
       "      <td>East Asian</td>\n",
       "      <td>Chinatown</td>\n",
       "      <td>10002</td>\n",
       "    </tr>\n",
       "    <tr>\n",
       "      <th>39563</th>\n",
       "      <td>China King Express</td>\n",
       "      <td>China King Express, 6938 Erie Rd, Derby, NY 14047</td>\n",
       "      <td>0x89d31f176b64da79:0x202faca0f650e880</td>\n",
       "      <td>42.698185</td>\n",
       "      <td>-78.988253</td>\n",
       "      <td>4.1</td>\n",
       "      <td>118</td>\n",
       "      <td>New York</td>\n",
       "      <td>Chinese</td>\n",
       "      <td>Angola</td>\n",
       "      <td>14047</td>\n",
       "    </tr>\n",
       "    <tr>\n",
       "      <th>39564</th>\n",
       "      <td>House of Gourmet -- 食全食美</td>\n",
       "      <td>House of Gourmet -- 食全食美, 2865 Sheridan Dr Sui...</td>\n",
       "      <td>0x89d373386b718fff:0xf82c90ef48e7b23</td>\n",
       "      <td>42.980251</td>\n",
       "      <td>-78.827337</td>\n",
       "      <td>4.3</td>\n",
       "      <td>58</td>\n",
       "      <td>New York</td>\n",
       "      <td>Chinese</td>\n",
       "      <td>Amherst</td>\n",
       "      <td>14150</td>\n",
       "    </tr>\n",
       "  </tbody>\n",
       "</table>\n",
       "<p>30445 rows × 11 columns</p>\n",
       "</div>"
      ],
      "text/plain": [
       "                           name  \\\n",
       "0                  San Soo Dang   \n",
       "1           Studio 34 Nutrition   \n",
       "2       Bushibushi Dimsum Place   \n",
       "3                       Dunkin'   \n",
       "5          Cowboy Burgers & BBQ   \n",
       "...                         ...   \n",
       "39558                    Luthun   \n",
       "39559                    Luthun   \n",
       "39562                       Jia   \n",
       "39563        China King Express   \n",
       "39564  House of Gourmet -- 食全食美   \n",
       "\n",
       "                                                 address  \\\n",
       "0      San Soo Dang, 761 S Vermont Ave, Los Angeles, ...   \n",
       "1      Studio 34 Nutrition, 3021 A, 34th St, Lubbock,...   \n",
       "2      Bushibushi Dimsum Place, 4930 Belt Line Rd, Da...   \n",
       "3              Dunkin', 4008 Bell Blvd, Queens, NY 11361   \n",
       "5      Cowboy Burgers & BBQ, 13101 Ramona Blvd, Baldw...   \n",
       "...                                                  ...   \n",
       "39558          Luthun, 432 E 13th St, New York, NY 10009   \n",
       "39559          Luthun, 432 E 13th St, New York, NY 10009   \n",
       "39562               Jia, 23 Essex St, New York, NY 10002   \n",
       "39563  China King Express, 6938 Erie Rd, Derby, NY 14047   \n",
       "39564  House of Gourmet -- 食全食美, 2865 Sheridan Dr Sui...   \n",
       "\n",
       "                                     gmap_id   latitude   longitude  \\\n",
       "0      0x80c2c778e3b73d33:0xbdc58662a4a97d49  34.058092 -118.292130   \n",
       "1      0x86fe6dd0642d44eb:0xeaceade94f24cc15  33.563039 -101.880718   \n",
       "2      0x864c2161e9d8649b:0x22061733a9698bcb  32.953106  -96.827689   \n",
       "3      0x89c261f60bdf13db:0x38da730e4687a97b  40.763985  -73.771430   \n",
       "5      0x80c2d765f8c90a3d:0x16afb75943e7ad50  34.079995 -117.988951   \n",
       "...                                      ...        ...         ...   \n",
       "39558  0x89c2592cf2935ed9:0x6672264426649f94  40.729911  -73.981883   \n",
       "39559  0x89c2592cf2935ed9:0x6672264426649f94  40.729911  -73.981883   \n",
       "39562  0x89c25a29eb1373a1:0x3afffd62d2b9a1dd  40.715434  -73.990083   \n",
       "39563  0x89d31f176b64da79:0x202faca0f650e880  42.698185  -78.988253   \n",
       "39564   0x89d373386b718fff:0xf82c90ef48e7b23  42.980251  -78.827337   \n",
       "\n",
       "       avg_rating  num_of_reviews      estado      category          city  \\\n",
       "0             4.4              18  California    East Asian     Koreatown   \n",
       "1             5.0              14       Texas  Veggie Vegan       Lubbock   \n",
       "2             4.9              28       Texas       Chinese       Addison   \n",
       "3             3.5               8    New York     Fast Food       Bayside   \n",
       "5             3.7              38  California     Fast Food  Baldwin Park   \n",
       "...           ...             ...         ...           ...           ...   \n",
       "39558         4.8              68    New York      American  East Village   \n",
       "39559         4.8              68    New York  Veggie Vegan  East Village   \n",
       "39562         4.8              68    New York    East Asian     Chinatown   \n",
       "39563         4.1             118    New York       Chinese        Angola   \n",
       "39564         4.3              58    New York       Chinese       Amherst   \n",
       "\n",
       "      zip_code  \n",
       "0        90005  \n",
       "1        79410  \n",
       "2        75254  \n",
       "3        11361  \n",
       "5        91706  \n",
       "...        ...  \n",
       "39558    10009  \n",
       "39559    10009  \n",
       "39562    10002  \n",
       "39563    14047  \n",
       "39564    14150  \n",
       "\n",
       "[30445 rows x 11 columns]"
      ]
     },
     "execution_count": 87,
     "metadata": {},
     "output_type": "execute_result"
    }
   ],
   "source": [
    "df_filtered"
   ]
  },
  {
   "cell_type": "code",
   "execution_count": 88,
   "metadata": {},
   "outputs": [],
   "source": [
    "#renombo las columnas correspondientes\n",
    "df_filtered.rename(columns={'estado':'state'},inplace=True)"
   ]
  },
  {
   "cell_type": "code",
   "execution_count": 89,
   "metadata": {},
   "outputs": [],
   "source": [
    "#reordeno las columnas\n",
    "df_filtered = df_filtered[['gmap_id', 'name', 'address', 'city', 'state', 'zip_code', 'latitude', 'longitude', 'category']]"
   ]
  },
  {
   "cell_type": "code",
   "execution_count": 90,
   "metadata": {},
   "outputs": [
    {
     "data": {
      "text/html": [
       "<div>\n",
       "<style scoped>\n",
       "    .dataframe tbody tr th:only-of-type {\n",
       "        vertical-align: middle;\n",
       "    }\n",
       "\n",
       "    .dataframe tbody tr th {\n",
       "        vertical-align: top;\n",
       "    }\n",
       "\n",
       "    .dataframe thead th {\n",
       "        text-align: right;\n",
       "    }\n",
       "</style>\n",
       "<table border=\"1\" class=\"dataframe\">\n",
       "  <thead>\n",
       "    <tr style=\"text-align: right;\">\n",
       "      <th></th>\n",
       "      <th>gmap_id</th>\n",
       "      <th>name</th>\n",
       "      <th>address</th>\n",
       "      <th>city</th>\n",
       "      <th>state</th>\n",
       "      <th>zip_code</th>\n",
       "      <th>latitude</th>\n",
       "      <th>longitude</th>\n",
       "      <th>category</th>\n",
       "    </tr>\n",
       "  </thead>\n",
       "  <tbody>\n",
       "    <tr>\n",
       "      <th>0</th>\n",
       "      <td>0x80c2c778e3b73d33:0xbdc58662a4a97d49</td>\n",
       "      <td>San Soo Dang</td>\n",
       "      <td>San Soo Dang, 761 S Vermont Ave, Los Angeles, ...</td>\n",
       "      <td>Koreatown</td>\n",
       "      <td>California</td>\n",
       "      <td>90005</td>\n",
       "      <td>34.058092</td>\n",
       "      <td>-118.292130</td>\n",
       "      <td>East Asian</td>\n",
       "    </tr>\n",
       "    <tr>\n",
       "      <th>1</th>\n",
       "      <td>0x86fe6dd0642d44eb:0xeaceade94f24cc15</td>\n",
       "      <td>Studio 34 Nutrition</td>\n",
       "      <td>Studio 34 Nutrition, 3021 A, 34th St, Lubbock,...</td>\n",
       "      <td>Lubbock</td>\n",
       "      <td>Texas</td>\n",
       "      <td>79410</td>\n",
       "      <td>33.563039</td>\n",
       "      <td>-101.880718</td>\n",
       "      <td>Veggie Vegan</td>\n",
       "    </tr>\n",
       "    <tr>\n",
       "      <th>2</th>\n",
       "      <td>0x864c2161e9d8649b:0x22061733a9698bcb</td>\n",
       "      <td>Bushibushi Dimsum Place</td>\n",
       "      <td>Bushibushi Dimsum Place, 4930 Belt Line Rd, Da...</td>\n",
       "      <td>Addison</td>\n",
       "      <td>Texas</td>\n",
       "      <td>75254</td>\n",
       "      <td>32.953106</td>\n",
       "      <td>-96.827689</td>\n",
       "      <td>Chinese</td>\n",
       "    </tr>\n",
       "    <tr>\n",
       "      <th>3</th>\n",
       "      <td>0x89c261f60bdf13db:0x38da730e4687a97b</td>\n",
       "      <td>Dunkin'</td>\n",
       "      <td>Dunkin', 4008 Bell Blvd, Queens, NY 11361</td>\n",
       "      <td>Bayside</td>\n",
       "      <td>New York</td>\n",
       "      <td>11361</td>\n",
       "      <td>40.763985</td>\n",
       "      <td>-73.771430</td>\n",
       "      <td>Fast Food</td>\n",
       "    </tr>\n",
       "    <tr>\n",
       "      <th>5</th>\n",
       "      <td>0x80c2d765f8c90a3d:0x16afb75943e7ad50</td>\n",
       "      <td>Cowboy Burgers &amp; BBQ</td>\n",
       "      <td>Cowboy Burgers &amp; BBQ, 13101 Ramona Blvd, Baldw...</td>\n",
       "      <td>Baldwin Park</td>\n",
       "      <td>California</td>\n",
       "      <td>91706</td>\n",
       "      <td>34.079995</td>\n",
       "      <td>-117.988951</td>\n",
       "      <td>Fast Food</td>\n",
       "    </tr>\n",
       "  </tbody>\n",
       "</table>\n",
       "</div>"
      ],
      "text/plain": [
       "                                 gmap_id                     name  \\\n",
       "0  0x80c2c778e3b73d33:0xbdc58662a4a97d49             San Soo Dang   \n",
       "1  0x86fe6dd0642d44eb:0xeaceade94f24cc15      Studio 34 Nutrition   \n",
       "2  0x864c2161e9d8649b:0x22061733a9698bcb  Bushibushi Dimsum Place   \n",
       "3  0x89c261f60bdf13db:0x38da730e4687a97b                  Dunkin'   \n",
       "5  0x80c2d765f8c90a3d:0x16afb75943e7ad50     Cowboy Burgers & BBQ   \n",
       "\n",
       "                                             address          city  \\\n",
       "0  San Soo Dang, 761 S Vermont Ave, Los Angeles, ...     Koreatown   \n",
       "1  Studio 34 Nutrition, 3021 A, 34th St, Lubbock,...       Lubbock   \n",
       "2  Bushibushi Dimsum Place, 4930 Belt Line Rd, Da...       Addison   \n",
       "3          Dunkin', 4008 Bell Blvd, Queens, NY 11361       Bayside   \n",
       "5  Cowboy Burgers & BBQ, 13101 Ramona Blvd, Baldw...  Baldwin Park   \n",
       "\n",
       "        state zip_code   latitude   longitude      category  \n",
       "0  California    90005  34.058092 -118.292130    East Asian  \n",
       "1       Texas    79410  33.563039 -101.880718  Veggie Vegan  \n",
       "2       Texas    75254  32.953106  -96.827689       Chinese  \n",
       "3    New York    11361  40.763985  -73.771430     Fast Food  \n",
       "5  California    91706  34.079995 -117.988951     Fast Food  "
      ]
     },
     "execution_count": 90,
     "metadata": {},
     "output_type": "execute_result"
    }
   ],
   "source": [
    "df_filtered.head()"
   ]
  },
  {
   "cell_type": "markdown",
   "metadata": {},
   "source": [
    "Se verifican finalmente que no haya duplicados"
   ]
  },
  {
   "cell_type": "code",
   "execution_count": 91,
   "metadata": {},
   "outputs": [
    {
     "data": {
      "text/plain": [
       "8958"
      ]
     },
     "execution_count": 91,
     "metadata": {},
     "output_type": "execute_result"
    }
   ],
   "source": [
    "#Cuento los duplicados en gmap_id\n",
    "df_filtered['gmap_id'].duplicated().sum()"
   ]
  },
  {
   "cell_type": "code",
   "execution_count": 92,
   "metadata": {},
   "outputs": [],
   "source": [
    "#Modifíco la columna state para que contenga la abreviacíon de los estados\n",
    "def abreviacion_estado(row):\n",
    "    if row['state'] == 'New York':\n",
    "        return 'NY'\n",
    "    elif row['state'] == 'California':\n",
    "        return 'CA'\n",
    "    elif row['state'] == 'Texas':\n",
    "        return 'TX'\n",
    "    elif row['state'] == 'Florida':\n",
    "        return 'FL'\n",
    "    elif row['state'] == 'Pennsylvania':\n",
    "        return 'PA'\n",
    "    else:\n",
    "        return 'Sin Datos'\n",
    "\n",
    "df_filtered['state'] = df_filtered.apply(abreviacion_estado, axis=1)"
   ]
  },
  {
   "cell_type": "code",
   "execution_count": 93,
   "metadata": {},
   "outputs": [
    {
     "data": {
      "text/plain": [
       "state\n",
       "NY           10036\n",
       "CA            6790\n",
       "PA            5042\n",
       "TX            4247\n",
       "FL            4246\n",
       "Sin Datos       84\n",
       "Name: count, dtype: int64"
      ]
     },
     "execution_count": 93,
     "metadata": {},
     "output_type": "execute_result"
    }
   ],
   "source": [
    "df_filtered['state'].value_counts()"
   ]
  },
  {
   "cell_type": "code",
   "execution_count": 94,
   "metadata": {},
   "outputs": [],
   "source": [
    "df_restaurantes_clean = df_filtered.copy()"
   ]
  },
  {
   "cell_type": "code",
   "execution_count": 95,
   "metadata": {},
   "outputs": [
    {
     "name": "stdout",
     "output_type": "stream",
     "text": [
      "<class 'pandas.core.frame.DataFrame'>\n",
      "Index: 30445 entries, 0 to 39564\n",
      "Data columns (total 9 columns):\n",
      " #   Column     Non-Null Count  Dtype  \n",
      "---  ------     --------------  -----  \n",
      " 0   gmap_id    30445 non-null  object \n",
      " 1   name       30445 non-null  object \n",
      " 2   address    30445 non-null  object \n",
      " 3   city       30445 non-null  object \n",
      " 4   state      30445 non-null  object \n",
      " 5   zip_code   30445 non-null  object \n",
      " 6   latitude   30445 non-null  float64\n",
      " 7   longitude  30445 non-null  float64\n",
      " 8   category   30445 non-null  object \n",
      "dtypes: float64(2), object(7)\n",
      "memory usage: 2.3+ MB\n"
     ]
    }
   ],
   "source": [
    "df_restaurantes_clean.info()"
   ]
  },
  {
   "cell_type": "code",
   "execution_count": 96,
   "metadata": {},
   "outputs": [
    {
     "data": {
      "text/html": [
       "<div>\n",
       "<style scoped>\n",
       "    .dataframe tbody tr th:only-of-type {\n",
       "        vertical-align: middle;\n",
       "    }\n",
       "\n",
       "    .dataframe tbody tr th {\n",
       "        vertical-align: top;\n",
       "    }\n",
       "\n",
       "    .dataframe thead th {\n",
       "        text-align: right;\n",
       "    }\n",
       "</style>\n",
       "<table border=\"1\" class=\"dataframe\">\n",
       "  <thead>\n",
       "    <tr style=\"text-align: right;\">\n",
       "      <th></th>\n",
       "      <th>gmap_id</th>\n",
       "      <th>name</th>\n",
       "      <th>address</th>\n",
       "      <th>city</th>\n",
       "      <th>state</th>\n",
       "      <th>zip_code</th>\n",
       "      <th>latitude</th>\n",
       "      <th>longitude</th>\n",
       "      <th>category</th>\n",
       "    </tr>\n",
       "  </thead>\n",
       "  <tbody>\n",
       "    <tr>\n",
       "      <th>0</th>\n",
       "      <td>0x80c2c778e3b73d33:0xbdc58662a4a97d49</td>\n",
       "      <td>San Soo Dang</td>\n",
       "      <td>San Soo Dang, 761 S Vermont Ave, Los Angeles, ...</td>\n",
       "      <td>Koreatown</td>\n",
       "      <td>CA</td>\n",
       "      <td>90005</td>\n",
       "      <td>34.058092</td>\n",
       "      <td>-118.292130</td>\n",
       "      <td>East Asian</td>\n",
       "    </tr>\n",
       "    <tr>\n",
       "      <th>1</th>\n",
       "      <td>0x86fe6dd0642d44eb:0xeaceade94f24cc15</td>\n",
       "      <td>Studio 34 Nutrition</td>\n",
       "      <td>Studio 34 Nutrition, 3021 A, 34th St, Lubbock,...</td>\n",
       "      <td>Lubbock</td>\n",
       "      <td>TX</td>\n",
       "      <td>79410</td>\n",
       "      <td>33.563039</td>\n",
       "      <td>-101.880718</td>\n",
       "      <td>Veggie Vegan</td>\n",
       "    </tr>\n",
       "    <tr>\n",
       "      <th>2</th>\n",
       "      <td>0x864c2161e9d8649b:0x22061733a9698bcb</td>\n",
       "      <td>Bushibushi Dimsum Place</td>\n",
       "      <td>Bushibushi Dimsum Place, 4930 Belt Line Rd, Da...</td>\n",
       "      <td>Addison</td>\n",
       "      <td>TX</td>\n",
       "      <td>75254</td>\n",
       "      <td>32.953106</td>\n",
       "      <td>-96.827689</td>\n",
       "      <td>Chinese</td>\n",
       "    </tr>\n",
       "  </tbody>\n",
       "</table>\n",
       "</div>"
      ],
      "text/plain": [
       "                                 gmap_id                     name  \\\n",
       "0  0x80c2c778e3b73d33:0xbdc58662a4a97d49             San Soo Dang   \n",
       "1  0x86fe6dd0642d44eb:0xeaceade94f24cc15      Studio 34 Nutrition   \n",
       "2  0x864c2161e9d8649b:0x22061733a9698bcb  Bushibushi Dimsum Place   \n",
       "\n",
       "                                             address       city state  \\\n",
       "0  San Soo Dang, 761 S Vermont Ave, Los Angeles, ...  Koreatown    CA   \n",
       "1  Studio 34 Nutrition, 3021 A, 34th St, Lubbock,...    Lubbock    TX   \n",
       "2  Bushibushi Dimsum Place, 4930 Belt Line Rd, Da...    Addison    TX   \n",
       "\n",
       "  zip_code   latitude   longitude      category  \n",
       "0    90005  34.058092 -118.292130    East Asian  \n",
       "1    79410  33.563039 -101.880718  Veggie Vegan  \n",
       "2    75254  32.953106  -96.827689       Chinese  "
      ]
     },
     "execution_count": 96,
     "metadata": {},
     "output_type": "execute_result"
    }
   ],
   "source": [
    "df_restaurantes_clean.head(3)"
   ]
  },
  {
   "cell_type": "code",
   "execution_count": 97,
   "metadata": {},
   "outputs": [],
   "source": [
    "df_restaurantes_clean.to_parquet('Datos limpios/restaurantes_clean.parquet')"
   ]
  },
  {
   "cell_type": "code",
   "execution_count": 99,
   "metadata": {},
   "outputs": [
    {
     "name": "stdout",
     "output_type": "stream",
     "text": [
      "<class 'pandas.core.frame.DataFrame'>\n",
      "Index: 30445 entries, 0 to 39564\n",
      "Data columns (total 9 columns):\n",
      " #   Column     Non-Null Count  Dtype  \n",
      "---  ------     --------------  -----  \n",
      " 0   gmap_id    30445 non-null  object \n",
      " 1   name       30445 non-null  object \n",
      " 2   address    30445 non-null  object \n",
      " 3   city       30445 non-null  object \n",
      " 4   state      30445 non-null  object \n",
      " 5   zip_code   30445 non-null  object \n",
      " 6   latitude   30445 non-null  float64\n",
      " 7   longitude  30445 non-null  float64\n",
      " 8   category   30445 non-null  object \n",
      "dtypes: float64(2), object(7)\n",
      "memory usage: 2.3+ MB\n"
     ]
    }
   ],
   "source": [
    "df_restaurantes_clean.info()"
   ]
  },
  {
   "cell_type": "code",
   "execution_count": 50,
   "metadata": {},
   "outputs": [],
   "source": [
    "df_dummies_restaurantes=df_restaurantes_clean[['gmap_id','category']]\n",
    "categoria=df_dummies_restaurantes['category'].str.get_dummies(sep=',')"
   ]
  },
  {
   "cell_type": "code",
   "execution_count": 51,
   "metadata": {},
   "outputs": [],
   "source": [
    "df_dummies_restaurantes=pd.concat([df_dummies_restaurantes,categoria],axis=1)"
   ]
  },
  {
   "cell_type": "code",
   "execution_count": 52,
   "metadata": {},
   "outputs": [],
   "source": [
    "df_dummies_restaurantes.reset_index(drop=True, inplace=True)"
   ]
  },
  {
   "cell_type": "code",
   "execution_count": 53,
   "metadata": {},
   "outputs": [],
   "source": [
    "df_dummies_restaurantes.to_parquet('Datos limpios/dummies_restaurantes2.parquet')"
   ]
  },
  {
   "cell_type": "code",
   "execution_count": 54,
   "metadata": {},
   "outputs": [
    {
     "data": {
      "text/plain": [
       "state\n",
       "NY           10120\n",
       "CA            6907\n",
       "PA            5337\n",
       "TX            4744\n",
       "FL            4234\n",
       "Sin Datos       98\n",
       "Name: count, dtype: int64"
      ]
     },
     "execution_count": 54,
     "metadata": {},
     "output_type": "execute_result"
    }
   ],
   "source": [
    "df_restaurantes_clean['state'].value_counts()"
   ]
  },
  {
   "cell_type": "code",
   "execution_count": 2,
   "metadata": {},
   "outputs": [],
   "source": [
    "df=pd.read_parquet(r'Datos limpios\\restaurantes_clean.parquet')"
   ]
  },
  {
   "cell_type": "code",
   "execution_count": 4,
   "metadata": {},
   "outputs": [
    {
     "data": {
      "text/plain": [
       "city\n",
       "Times Square     302\n",
       "East Village     222\n",
       "Chinatown        219\n",
       "Manhattan        178\n",
       "Gramercy Park    170\n",
       "                ... \n",
       "Bostonia           1\n",
       "Snyder             1\n",
       "Roby               1\n",
       "Cherry Valley      1\n",
       "Sheffield          1\n",
       "Name: count, Length: 3367, dtype: int64"
      ]
     },
     "execution_count": 4,
     "metadata": {},
     "output_type": "execute_result"
    }
   ],
   "source": [
    "df['city'].value_counts()"
   ]
  }
 ],
 "metadata": {
  "kernelspec": {
   "display_name": "Python 3",
   "language": "python",
   "name": "python3"
  },
  "language_info": {
   "codemirror_mode": {
    "name": "ipython",
    "version": 3
   },
   "file_extension": ".py",
   "mimetype": "text/x-python",
   "name": "python",
   "nbconvert_exporter": "python",
   "pygments_lexer": "ipython3",
   "version": "3.12.1"
  }
 },
 "nbformat": 4,
 "nbformat_minor": 2
}
