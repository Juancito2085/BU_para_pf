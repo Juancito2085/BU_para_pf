{
 "cells": [
  {
   "cell_type": "markdown",
   "metadata": {},
   "source": []
  },
  {
   "cell_type": "code",
   "execution_count": 1,
   "metadata": {},
   "outputs": [],
   "source": [
    "import pandas as pd\n",
    "import numpy as np\n",
    "import json\n",
    "import os"
   ]
  },
  {
   "cell_type": "code",
   "execution_count": 2,
   "metadata": {},
   "outputs": [],
   "source": [
    "#Se carga el archivo de restaurantes ya limpio para poder obtener las ids de google\n",
    "# y asi crear un data set solo las reviews de los restaurantes\n",
    "df_restaurantes= pd.read_parquet('Datos limpios/restaurantes_clean.parquet')\n",
    "gmaps=df_restaurantes['gmap_id'].astype(str).tolist()"
   ]
  },
  {
   "cell_type": "code",
   "execution_count": 3,
   "metadata": {},
   "outputs": [],
   "source": [
    "#Hago un diccionarion con las rutas de los archivos de las reviews\n",
    "ruta_review_estados={\n",
    "    'NY': 'Datasets/Google Maps/reviews-estados/review-New_York',\n",
    "    'CA': 'Datasets/Google Maps/reviews-estados/review-California',\n",
    "    'TX': 'Datasets/Google Maps/reviews-estados/review-Texas',\n",
    "    'FL': 'Datasets/Google Maps/reviews-estados/review-Florida',\n",
    "    'PA': 'Datasets/Google Maps/reviews-estados/review-Pennsylvania',\n",
    "\n",
    "}"
   ]
  },
  {
   "cell_type": "code",
   "execution_count": 5,
   "metadata": {},
   "outputs": [],
   "source": [
    "reviews=[]\n",
    "#Recorro todos los archivos y solo me quedo con las reviews de los restaurantes\n",
    "for ruta in ruta_review_estados.values():\n",
    "#Por cada ruta se recorren todos los archvivos\n",
    "    for archivo in os.listdir(ruta):\n",
    "        ruta_archivo=os.path.join(ruta, archivo)\n",
    "        with open(ruta+'/'+archivo,'r') as file:\n",
    "            for linea in file:\n",
    "                data = json.loads(linea)\n",
    "                reviews.append(data)\n",
    "            \n",
    "       "
   ]
  },
  {
   "cell_type": "code",
   "execution_count": 26,
   "metadata": {},
   "outputs": [],
   "source": [
    "#Ahora transformamos el diccionario en un data frame\n",
    "df_reviews=pd.DataFrame(reviews)"
   ]
  },
  {
   "cell_type": "code",
   "execution_count": 21,
   "metadata": {},
   "outputs": [
    {
     "name": "stdout",
     "output_type": "stream",
     "text": [
      "<class 'pandas.core.frame.DataFrame'>\n",
      "RangeIndex: 12946824 entries, 0 to 12946823\n",
      "Data columns (total 8 columns):\n",
      " #   Column   Dtype \n",
      "---  ------   ----- \n",
      " 0   user_id  object\n",
      " 1   name     object\n",
      " 2   time     int64 \n",
      " 3   rating   int64 \n",
      " 4   text     object\n",
      " 5   pics     object\n",
      " 6   resp     object\n",
      " 7   gmap_id  object\n",
      "dtypes: int64(2), object(6)\n",
      "memory usage: 790.2+ MB\n"
     ]
    }
   ],
   "source": [
    "df_reviews.info()"
   ]
  },
  {
   "cell_type": "code",
   "execution_count": 27,
   "metadata": {},
   "outputs": [],
   "source": [
    "#Eliminamos las columnas que no nos interesan\n",
    "df_reviews.drop(columns=['pics','resp'],inplace=True)"
   ]
  },
  {
   "cell_type": "code",
   "execution_count": 28,
   "metadata": {},
   "outputs": [],
   "source": [
    "#Unimos los dos dataframes\n",
    "df_reviews=df_reviews.merge(df_restaurantes['gmap_id'],on='gmap_id',how='left')"
   ]
  },
  {
   "cell_type": "code",
   "execution_count": 29,
   "metadata": {},
   "outputs": [],
   "source": [
    "#Reordenamos las columnas \n",
    "df_reviews=df_reviews[['gmap_id','name','rating','time','text']]"
   ]
  },
  {
   "cell_type": "code",
   "execution_count": 31,
   "metadata": {},
   "outputs": [],
   "source": [
    "#Modificamos el formato de la fecha\n",
    "df_reviews['time']=pd.to_datetime(df_reviews['time'], unit='ms')"
   ]
  },
  {
   "cell_type": "code",
   "execution_count": 35,
   "metadata": {},
   "outputs": [],
   "source": [
    "#Nos quedamos con las reviews de los años 2016 a 2021\n",
    "df_reviews=df_reviews[(df_reviews['time'].dt.year>=2016) & (df_reviews['time'].dt.year<=2021)]"
   ]
  },
  {
   "cell_type": "code",
   "execution_count": 37,
   "metadata": {},
   "outputs": [
    {
     "name": "stdout",
     "output_type": "stream",
     "text": [
      "<class 'pandas.core.frame.DataFrame'>\n",
      "Index: 12723874 entries, 0 to 12946823\n",
      "Data columns (total 5 columns):\n",
      " #   Column   Dtype         \n",
      "---  ------   -----         \n",
      " 0   gmap_id  object        \n",
      " 1   name     object        \n",
      " 2   rating   int64         \n",
      " 3   time     datetime64[ns]\n",
      " 4   text     object        \n",
      "dtypes: datetime64[ns](1), int64(1), object(3)\n",
      "memory usage: 582.5+ MB\n"
     ]
    }
   ],
   "source": [
    "df_reviews.info()"
   ]
  },
  {
   "cell_type": "code",
   "execution_count": 38,
   "metadata": {},
   "outputs": [
    {
     "data": {
      "text/html": [
       "<div>\n",
       "<style scoped>\n",
       "    .dataframe tbody tr th:only-of-type {\n",
       "        vertical-align: middle;\n",
       "    }\n",
       "\n",
       "    .dataframe tbody tr th {\n",
       "        vertical-align: top;\n",
       "    }\n",
       "\n",
       "    .dataframe thead th {\n",
       "        text-align: right;\n",
       "    }\n",
       "</style>\n",
       "<table border=\"1\" class=\"dataframe\">\n",
       "  <thead>\n",
       "    <tr style=\"text-align: right;\">\n",
       "      <th></th>\n",
       "      <th>gmap_id</th>\n",
       "      <th>name</th>\n",
       "      <th>rating</th>\n",
       "      <th>time</th>\n",
       "      <th>text</th>\n",
       "    </tr>\n",
       "  </thead>\n",
       "  <tbody>\n",
       "    <tr>\n",
       "      <th>0</th>\n",
       "      <td>0x89c25fc9494dce47:0x6d63c807b59a55</td>\n",
       "      <td>Alvin Martinez</td>\n",
       "      <td>5</td>\n",
       "      <td>2020-10-23 23:13:15.361</td>\n",
       "      <td>I'm late to posting this but this store especi...</td>\n",
       "    </tr>\n",
       "    <tr>\n",
       "      <th>1</th>\n",
       "      <td>0x89c25fc9494dce47:0x6d63c807b59a55</td>\n",
       "      <td>Johnnie Jackson</td>\n",
       "      <td>1</td>\n",
       "      <td>2021-05-04 19:37:17.403</td>\n",
       "      <td>Very dissatisfied I did not get my phone the p...</td>\n",
       "    </tr>\n",
       "    <tr>\n",
       "      <th>2</th>\n",
       "      <td>0x89c25fc9494dce47:0x6d63c807b59a55</td>\n",
       "      <td>Manie Blazer</td>\n",
       "      <td>5</td>\n",
       "      <td>2020-08-14 19:01:02.039</td>\n",
       "      <td>Excellent very well done with professional car...</td>\n",
       "    </tr>\n",
       "    <tr>\n",
       "      <th>3</th>\n",
       "      <td>0x89c25fc9494dce47:0x6d63c807b59a55</td>\n",
       "      <td>Fashion Fiinds</td>\n",
       "      <td>5</td>\n",
       "      <td>2018-12-02 18:04:22.044</td>\n",
       "      <td>Basing my review strictly on the service I rec...</td>\n",
       "    </tr>\n",
       "    <tr>\n",
       "      <th>4</th>\n",
       "      <td>0x89c25fc9494dce47:0x6d63c807b59a55</td>\n",
       "      <td>Andres Rieloff</td>\n",
       "      <td>1</td>\n",
       "      <td>2020-08-13 00:38:17.718</td>\n",
       "      <td>Bad! Disorganized. I'm being totally honest. I...</td>\n",
       "    </tr>\n",
       "  </tbody>\n",
       "</table>\n",
       "</div>"
      ],
      "text/plain": [
       "                               gmap_id             name  rating  \\\n",
       "0  0x89c25fc9494dce47:0x6d63c807b59a55   Alvin Martinez       5   \n",
       "1  0x89c25fc9494dce47:0x6d63c807b59a55  Johnnie Jackson       1   \n",
       "2  0x89c25fc9494dce47:0x6d63c807b59a55     Manie Blazer       5   \n",
       "3  0x89c25fc9494dce47:0x6d63c807b59a55   Fashion Fiinds       5   \n",
       "4  0x89c25fc9494dce47:0x6d63c807b59a55   Andres Rieloff       1   \n",
       "\n",
       "                     time                                               text  \n",
       "0 2020-10-23 23:13:15.361  I'm late to posting this but this store especi...  \n",
       "1 2021-05-04 19:37:17.403  Very dissatisfied I did not get my phone the p...  \n",
       "2 2020-08-14 19:01:02.039  Excellent very well done with professional car...  \n",
       "3 2018-12-02 18:04:22.044  Basing my review strictly on the service I rec...  \n",
       "4 2020-08-13 00:38:17.718  Bad! Disorganized. I'm being totally honest. I...  "
      ]
     },
     "execution_count": 38,
     "metadata": {},
     "output_type": "execute_result"
    }
   ],
   "source": [
    "df_reviews.head()"
   ]
  },
  {
   "cell_type": "code",
   "execution_count": 41,
   "metadata": {},
   "outputs": [],
   "source": [
    "df_reviews.to_parquet('Datos limpios/reviews_restaurantes.parquet')"
   ]
  }
 ],
 "metadata": {
  "kernelspec": {
   "display_name": "Python 3",
   "language": "python",
   "name": "python3"
  },
  "language_info": {
   "codemirror_mode": {
    "name": "ipython",
    "version": 3
   },
   "file_extension": ".py",
   "mimetype": "text/x-python",
   "name": "python",
   "nbconvert_exporter": "python",
   "pygments_lexer": "ipython3",
   "version": "3.12.1"
  }
 },
 "nbformat": 4,
 "nbformat_minor": 2
}
