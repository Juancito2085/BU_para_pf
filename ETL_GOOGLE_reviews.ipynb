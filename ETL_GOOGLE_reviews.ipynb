{
 "cells": [
  {
   "cell_type": "markdown",
   "metadata": {},
   "source": []
  },
  {
   "cell_type": "code",
   "execution_count": 1,
   "metadata": {},
   "outputs": [],
   "source": [
    "import pandas as pd\n",
    "import numpy as np\n",
    "import json\n",
    "import os"
   ]
  },
  {
   "cell_type": "code",
   "execution_count": 3,
   "metadata": {},
   "outputs": [],
   "source": [
    "#Se carga el archivo de restaurantes ya limpio para poder obtener las ids de google\n",
    "# y asi crear un data set solo las reviews de los restaurantes\n",
    "df_restaurantes= pd.read_parquet('Datos limpios/restaurantes_clean.parquet')\n",
    "gmaps=df_restaurantes['gmap_id'].astype(str).tolist()"
   ]
  },
  {
   "cell_type": "code",
   "execution_count": 4,
   "metadata": {},
   "outputs": [],
   "source": [
    "#Hago un diccionarion con las rutas de los archivos de las reviews\n",
    "ruta_review_estados={\n",
    "    'NY': 'Datasets/Google Maps/reviews-estados/review-New_York',\n",
    "    'CA': 'Datasets/Google Maps/reviews-estados/review-California',\n",
    "    'TX': 'Datasets/Google Maps/reviews-estados/review-Texas',\n",
    "    'FL': 'Datasets/Google Maps/reviews-estados/review-Florida',\n",
    "    'PA': 'Datasets/Google Maps/reviews-estados/review-Pennsylvania',\n",
    "\n",
    "}"
   ]
  },
  {
   "cell_type": "code",
   "execution_count": 5,
   "metadata": {},
   "outputs": [],
   "source": [
    "reviews=[]\n",
    "#Recorro todos los archivos y solo me quedo con las reviews de los restaurantes\n",
    "for ruta in ruta_review_estados.values():\n",
    "#Por cada ruta se recorren todos los archvivos\n",
    "    for archivo in os.listdir(ruta):\n",
    "        ruta_archivo=os.path.join(ruta, archivo)\n",
    "        with open(ruta+'/'+archivo,'r') as file:\n",
    "            for linea in file:\n",
    "                data = json.loads(linea)\n",
    "                reviews.append(data)\n",
    "            \n",
    "       "
   ]
  },
  {
   "cell_type": "code",
   "execution_count": 6,
   "metadata": {},
   "outputs": [],
   "source": [
    "#Ahora transformamos el diccionario en un data frame\n",
    "df_reviews=pd.DataFrame(reviews)"
   ]
  },
  {
   "cell_type": "code",
   "execution_count": 7,
   "metadata": {},
   "outputs": [
    {
     "name": "stdout",
     "output_type": "stream",
     "text": [
      "<class 'pandas.core.frame.DataFrame'>\n",
      "RangeIndex: 12946824 entries, 0 to 12946823\n",
      "Data columns (total 8 columns):\n",
      " #   Column   Dtype \n",
      "---  ------   ----- \n",
      " 0   user_id  object\n",
      " 1   name     object\n",
      " 2   time     int64 \n",
      " 3   rating   int64 \n",
      " 4   text     object\n",
      " 5   pics     object\n",
      " 6   resp     object\n",
      " 7   gmap_id  object\n",
      "dtypes: int64(2), object(6)\n",
      "memory usage: 790.2+ MB\n"
     ]
    }
   ],
   "source": [
    "df_reviews.info()"
   ]
  },
  {
   "cell_type": "code",
   "execution_count": 8,
   "metadata": {},
   "outputs": [],
   "source": [
    "#Eliminamos las columnas que no nos interesan\n",
    "df_reviews.drop(columns=['pics','resp'],inplace=True)"
   ]
  },
  {
   "cell_type": "code",
   "execution_count": 9,
   "metadata": {},
   "outputs": [],
   "source": [
    "#Unimos los dos dataframes\n",
    "df_reviews=df_reviews.merge(df_restaurantes['gmap_id'],on='gmap_id',how='inner')"
   ]
  },
  {
   "cell_type": "code",
   "execution_count": 10,
   "metadata": {},
   "outputs": [],
   "source": [
    "#Reordenamos las columnas \n",
    "df_reviews=df_reviews[['gmap_id','name','rating','time','text']]"
   ]
  },
  {
   "cell_type": "code",
   "execution_count": 11,
   "metadata": {},
   "outputs": [],
   "source": [
    "#Modificamos el formato de la fecha\n",
    "df_reviews['time']=pd.to_datetime(df_reviews['time'], unit='ms')"
   ]
  },
  {
   "cell_type": "code",
   "execution_count": 12,
   "metadata": {},
   "outputs": [],
   "source": [
    "#Nos quedamos con las reviews de los años 2016 a 2021\n",
    "df_reviews=df_reviews[(df_reviews['time'].dt.year>=2016) & (df_reviews['time'].dt.year<=2021)]"
   ]
  },
  {
   "cell_type": "code",
   "execution_count": 13,
   "metadata": {},
   "outputs": [
    {
     "name": "stdout",
     "output_type": "stream",
     "text": [
      "<class 'pandas.core.frame.DataFrame'>\n",
      "Index: 4587893 entries, 0 to 4645724\n",
      "Data columns (total 5 columns):\n",
      " #   Column   Dtype         \n",
      "---  ------   -----         \n",
      " 0   gmap_id  object        \n",
      " 1   name     object        \n",
      " 2   rating   int64         \n",
      " 3   time     datetime64[ns]\n",
      " 4   text     object        \n",
      "dtypes: datetime64[ns](1), int64(1), object(3)\n",
      "memory usage: 210.0+ MB\n"
     ]
    }
   ],
   "source": [
    "df_reviews.info()"
   ]
  },
  {
   "cell_type": "code",
   "execution_count": 14,
   "metadata": {},
   "outputs": [
    {
     "data": {
      "text/html": [
       "<div>\n",
       "<style scoped>\n",
       "    .dataframe tbody tr th:only-of-type {\n",
       "        vertical-align: middle;\n",
       "    }\n",
       "\n",
       "    .dataframe tbody tr th {\n",
       "        vertical-align: top;\n",
       "    }\n",
       "\n",
       "    .dataframe thead th {\n",
       "        text-align: right;\n",
       "    }\n",
       "</style>\n",
       "<table border=\"1\" class=\"dataframe\">\n",
       "  <thead>\n",
       "    <tr style=\"text-align: right;\">\n",
       "      <th></th>\n",
       "      <th>gmap_id</th>\n",
       "      <th>name</th>\n",
       "      <th>rating</th>\n",
       "      <th>time</th>\n",
       "      <th>text</th>\n",
       "    </tr>\n",
       "  </thead>\n",
       "  <tbody>\n",
       "    <tr>\n",
       "      <th>0</th>\n",
       "      <td>0x89c261f60bdf13db:0x38da730e4687a97b</td>\n",
       "      <td>Maria Patricia Londoño</td>\n",
       "      <td>4</td>\n",
       "      <td>2021-08-16 01:39:58.394</td>\n",
       "      <td>The donuts is always a good place to buy somet...</td>\n",
       "    </tr>\n",
       "    <tr>\n",
       "      <th>1</th>\n",
       "      <td>0x89c261f60bdf13db:0x38da730e4687a97b</td>\n",
       "      <td>Kristal</td>\n",
       "      <td>5</td>\n",
       "      <td>2020-07-01 15:17:58.555</td>\n",
       "      <td>I went into this Dunkin' yesterday and got som...</td>\n",
       "    </tr>\n",
       "    <tr>\n",
       "      <th>2</th>\n",
       "      <td>0x89c261f60bdf13db:0x38da730e4687a97b</td>\n",
       "      <td>Efrain Hernandez</td>\n",
       "      <td>3</td>\n",
       "      <td>2020-07-07 19:42:23.631</td>\n",
       "      <td>Bought a Machiato and as soon as I touched the...</td>\n",
       "    </tr>\n",
       "    <tr>\n",
       "      <th>3</th>\n",
       "      <td>0x89c261f60bdf13db:0x38da730e4687a97b</td>\n",
       "      <td>Kiyoshi Sudo</td>\n",
       "      <td>5</td>\n",
       "      <td>2019-08-02 20:05:40.103</td>\n",
       "      <td>Friendly staffs, nice donuts and muffins and c...</td>\n",
       "    </tr>\n",
       "    <tr>\n",
       "      <th>4</th>\n",
       "      <td>0x89c261f60bdf13db:0x38da730e4687a97b</td>\n",
       "      <td>Charlotte Sheppard</td>\n",
       "      <td>1</td>\n",
       "      <td>2020-10-11 15:14:31.233</td>\n",
       "      <td>They got my order wrong  food wasn't done unco...</td>\n",
       "    </tr>\n",
       "  </tbody>\n",
       "</table>\n",
       "</div>"
      ],
      "text/plain": [
       "                                 gmap_id                    name  rating  \\\n",
       "0  0x89c261f60bdf13db:0x38da730e4687a97b  Maria Patricia Londoño       4   \n",
       "1  0x89c261f60bdf13db:0x38da730e4687a97b                 Kristal       5   \n",
       "2  0x89c261f60bdf13db:0x38da730e4687a97b        Efrain Hernandez       3   \n",
       "3  0x89c261f60bdf13db:0x38da730e4687a97b            Kiyoshi Sudo       5   \n",
       "4  0x89c261f60bdf13db:0x38da730e4687a97b      Charlotte Sheppard       1   \n",
       "\n",
       "                     time                                               text  \n",
       "0 2021-08-16 01:39:58.394  The donuts is always a good place to buy somet...  \n",
       "1 2020-07-01 15:17:58.555  I went into this Dunkin' yesterday and got som...  \n",
       "2 2020-07-07 19:42:23.631  Bought a Machiato and as soon as I touched the...  \n",
       "3 2019-08-02 20:05:40.103  Friendly staffs, nice donuts and muffins and c...  \n",
       "4 2020-10-11 15:14:31.233  They got my order wrong  food wasn't done unco...  "
      ]
     },
     "execution_count": 14,
     "metadata": {},
     "output_type": "execute_result"
    }
   ],
   "source": [
    "df_reviews.head()"
   ]
  },
  {
   "cell_type": "code",
   "execution_count": 15,
   "metadata": {},
   "outputs": [],
   "source": [
    "#hacemos un analisis de sentiminetos con blob\n",
    "from textblob import TextBlob\n",
    "#hacemos una funcion que en caso de no tener text vacio devuelva 1\n",
    "def calculate_sentiment(text):\n",
    "    if text is None:\n",
    "        return 0\n",
    "    else:\n",
    "        # Redondea el valor de la polaridad a 2 decimales\n",
    "        return round(TextBlob(text).sentiment.polarity, 2)\n",
    "df_reviews['sentiment'] = df_reviews['text'].apply(calculate_sentiment)\n",
    "#redondeamos los numeros\n",
    "df_reviews['sentiment']=df_reviews['sentiment'].round(2)\n",
    "#le restamos 1\n",
    "df_reviews['sentiment']=df_reviews['sentiment']-1\n"
   ]
  },
  {
   "cell_type": "code",
   "execution_count": 18,
   "metadata": {},
   "outputs": [
    {
     "data": {
      "text/plain": [
       "sentiment\n",
       "-1.00    2138007\n",
       " 0.00     170225\n",
       "-0.30     152151\n",
       "-0.20     136367\n",
       "-0.50     131330\n",
       "          ...   \n",
       "-1.99         40\n",
       "-1.92         26\n",
       "-1.82         24\n",
       "-1.96         11\n",
       "-1.97          6\n",
       "Name: count, Length: 201, dtype: int64"
      ]
     },
     "execution_count": 18,
     "metadata": {},
     "output_type": "execute_result"
    }
   ],
   "source": [
    "df_reviews['sentiment'].value_counts()"
   ]
  },
  {
   "cell_type": "code",
   "execution_count": null,
   "metadata": {},
   "outputs": [],
   "source": [
    "df_reviews.to_parquet('Datos limpios/reviews_restaurantes.parquet')"
   ]
  }
 ],
 "metadata": {
  "kernelspec": {
   "display_name": "Python 3",
   "language": "python",
   "name": "python3"
  },
  "language_info": {
   "codemirror_mode": {
    "name": "ipython",
    "version": 3
   },
   "file_extension": ".py",
   "mimetype": "text/x-python",
   "name": "python",
   "nbconvert_exporter": "python",
   "pygments_lexer": "ipython3",
   "version": "3.12.1"
  }
 },
 "nbformat": 4,
 "nbformat_minor": 2
}
