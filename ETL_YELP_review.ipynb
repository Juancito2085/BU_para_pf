{
 "cells": [
  {
   "cell_type": "code",
   "execution_count": 1,
   "metadata": {},
   "outputs": [],
   "source": [
    "import pandas as pd\n",
    "import numpy as np"
   ]
  },
  {
   "cell_type": "code",
   "execution_count": 2,
   "metadata": {},
   "outputs": [],
   "source": [
    "df_review=pd.read_parquet('Datasets/Yelp/review.parquet')"
   ]
  },
  {
   "cell_type": "code",
   "execution_count": 3,
   "metadata": {},
   "outputs": [
    {
     "name": "stdout",
     "output_type": "stream",
     "text": [
      "<class 'pandas.core.frame.DataFrame'>\n",
      "RangeIndex: 6990280 entries, 0 to 6990279\n",
      "Data columns (total 9 columns):\n",
      " #   Column       Dtype         \n",
      "---  ------       -----         \n",
      " 0   review_id    object        \n",
      " 1   user_id      object        \n",
      " 2   business_id  object        \n",
      " 3   stars        int64         \n",
      " 4   useful       int64         \n",
      " 5   funny        int64         \n",
      " 6   cool         int64         \n",
      " 7   text         object        \n",
      " 8   date         datetime64[ns]\n",
      "dtypes: datetime64[ns](1), int64(4), object(4)\n",
      "memory usage: 480.0+ MB\n"
     ]
    }
   ],
   "source": [
    "df_review.info()"
   ]
  },
  {
   "cell_type": "code",
   "execution_count": 4,
   "metadata": {},
   "outputs": [
    {
     "data": {
      "text/plain": [
       "review_id      0\n",
       "user_id        0\n",
       "business_id    0\n",
       "stars          0\n",
       "useful         0\n",
       "funny          0\n",
       "cool           0\n",
       "text           0\n",
       "date           0\n",
       "dtype: int64"
      ]
     },
     "execution_count": 4,
     "metadata": {},
     "output_type": "execute_result"
    }
   ],
   "source": [
    "#verificamos los nulos\n",
    "df_review.isnull().sum()"
   ]
  },
  {
   "cell_type": "code",
   "execution_count": 5,
   "metadata": {},
   "outputs": [
    {
     "data": {
      "text/html": [
       "<div>\n",
       "<style scoped>\n",
       "    .dataframe tbody tr th:only-of-type {\n",
       "        vertical-align: middle;\n",
       "    }\n",
       "\n",
       "    .dataframe tbody tr th {\n",
       "        vertical-align: top;\n",
       "    }\n",
       "\n",
       "    .dataframe thead th {\n",
       "        text-align: right;\n",
       "    }\n",
       "</style>\n",
       "<table border=\"1\" class=\"dataframe\">\n",
       "  <thead>\n",
       "    <tr style=\"text-align: right;\">\n",
       "      <th></th>\n",
       "      <th>review_id</th>\n",
       "      <th>user_id</th>\n",
       "      <th>business_id</th>\n",
       "      <th>stars</th>\n",
       "      <th>useful</th>\n",
       "      <th>funny</th>\n",
       "      <th>cool</th>\n",
       "      <th>text</th>\n",
       "      <th>date</th>\n",
       "    </tr>\n",
       "  </thead>\n",
       "  <tbody>\n",
       "    <tr>\n",
       "      <th>0</th>\n",
       "      <td>KU_O5udG6zpxOg-VcAEodg</td>\n",
       "      <td>mh_-eMZ6K5RLWhZyISBhwA</td>\n",
       "      <td>XQfwVwDr-v0ZS3_CbbE5Xw</td>\n",
       "      <td>3</td>\n",
       "      <td>0</td>\n",
       "      <td>0</td>\n",
       "      <td>0</td>\n",
       "      <td>If you decide to eat here, just be aware it is...</td>\n",
       "      <td>2018-07-07 22:09:11</td>\n",
       "    </tr>\n",
       "    <tr>\n",
       "      <th>1</th>\n",
       "      <td>BiTunyQ73aT9WBnpR9DZGw</td>\n",
       "      <td>OyoGAe7OKpv6SyGZT5g77Q</td>\n",
       "      <td>7ATYjTIgM3jUlt4UM3IypQ</td>\n",
       "      <td>5</td>\n",
       "      <td>1</td>\n",
       "      <td>0</td>\n",
       "      <td>1</td>\n",
       "      <td>I've taken a lot of spin classes over the year...</td>\n",
       "      <td>2012-01-03 15:28:18</td>\n",
       "    </tr>\n",
       "    <tr>\n",
       "      <th>2</th>\n",
       "      <td>saUsX_uimxRlCVr67Z4Jig</td>\n",
       "      <td>8g_iMtfSiwikVnbP2etR0A</td>\n",
       "      <td>YjUWPpI6HXG530lwP-fb2A</td>\n",
       "      <td>3</td>\n",
       "      <td>0</td>\n",
       "      <td>0</td>\n",
       "      <td>0</td>\n",
       "      <td>Family diner. Had the buffet. Eclectic assortm...</td>\n",
       "      <td>2014-02-05 20:30:30</td>\n",
       "    </tr>\n",
       "    <tr>\n",
       "      <th>3</th>\n",
       "      <td>AqPFMleE6RsU23_auESxiA</td>\n",
       "      <td>_7bHUi9Uuf5__HHc_Q8guQ</td>\n",
       "      <td>kxX2SOes4o-D3ZQBkiMRfA</td>\n",
       "      <td>5</td>\n",
       "      <td>1</td>\n",
       "      <td>0</td>\n",
       "      <td>1</td>\n",
       "      <td>Wow!  Yummy, different,  delicious.   Our favo...</td>\n",
       "      <td>2015-01-04 00:01:03</td>\n",
       "    </tr>\n",
       "    <tr>\n",
       "      <th>4</th>\n",
       "      <td>Sx8TMOWLNuJBWer-0pcmoA</td>\n",
       "      <td>bcjbaE6dDog4jkNY91ncLQ</td>\n",
       "      <td>e4Vwtrqf-wpJfwesgvdgxQ</td>\n",
       "      <td>4</td>\n",
       "      <td>1</td>\n",
       "      <td>0</td>\n",
       "      <td>1</td>\n",
       "      <td>Cute interior and owner (?) gave us tour of up...</td>\n",
       "      <td>2017-01-14 20:54:15</td>\n",
       "    </tr>\n",
       "  </tbody>\n",
       "</table>\n",
       "</div>"
      ],
      "text/plain": [
       "                review_id                 user_id             business_id  \\\n",
       "0  KU_O5udG6zpxOg-VcAEodg  mh_-eMZ6K5RLWhZyISBhwA  XQfwVwDr-v0ZS3_CbbE5Xw   \n",
       "1  BiTunyQ73aT9WBnpR9DZGw  OyoGAe7OKpv6SyGZT5g77Q  7ATYjTIgM3jUlt4UM3IypQ   \n",
       "2  saUsX_uimxRlCVr67Z4Jig  8g_iMtfSiwikVnbP2etR0A  YjUWPpI6HXG530lwP-fb2A   \n",
       "3  AqPFMleE6RsU23_auESxiA  _7bHUi9Uuf5__HHc_Q8guQ  kxX2SOes4o-D3ZQBkiMRfA   \n",
       "4  Sx8TMOWLNuJBWer-0pcmoA  bcjbaE6dDog4jkNY91ncLQ  e4Vwtrqf-wpJfwesgvdgxQ   \n",
       "\n",
       "   stars  useful  funny  cool  \\\n",
       "0      3       0      0     0   \n",
       "1      5       1      0     1   \n",
       "2      3       0      0     0   \n",
       "3      5       1      0     1   \n",
       "4      4       1      0     1   \n",
       "\n",
       "                                                text                date  \n",
       "0  If you decide to eat here, just be aware it is... 2018-07-07 22:09:11  \n",
       "1  I've taken a lot of spin classes over the year... 2012-01-03 15:28:18  \n",
       "2  Family diner. Had the buffet. Eclectic assortm... 2014-02-05 20:30:30  \n",
       "3  Wow!  Yummy, different,  delicious.   Our favo... 2015-01-04 00:01:03  \n",
       "4  Cute interior and owner (?) gave us tour of up... 2017-01-14 20:54:15  "
      ]
     },
     "execution_count": 5,
     "metadata": {},
     "output_type": "execute_result"
    }
   ],
   "source": [
    "df_review.head()"
   ]
  },
  {
   "cell_type": "markdown",
   "metadata": {},
   "source": [
    "Eliminamos las filas que no son necesarias para le proyecto"
   ]
  },
  {
   "cell_type": "code",
   "execution_count": 6,
   "metadata": {},
   "outputs": [],
   "source": [
    "df_review=df_review[['review_id','business_id','user_id','stars','useful','text','date']]"
   ]
  },
  {
   "cell_type": "code",
   "execution_count": 7,
   "metadata": {},
   "outputs": [
    {
     "data": {
      "text/plain": [
       "Index(['review_id', 'business_id', 'user_id', 'stars', 'useful', 'text',\n",
       "       'date'],\n",
       "      dtype='object')"
      ]
     },
     "execution_count": 7,
     "metadata": {},
     "output_type": "execute_result"
    }
   ],
   "source": [
    "df_review.columns"
   ]
  },
  {
   "cell_type": "code",
   "execution_count": 8,
   "metadata": {},
   "outputs": [],
   "source": [
    "#Nos quedamos con los reviews que estan entre los años 2016 y 2021\n",
    "df_review['date']=pd.to_datetime(df_review['date'])\n",
    "df_review=df_review[(df_review['date']>='2016-01-01') & (df_review['date']<='2021-12-31')]"
   ]
  },
  {
   "cell_type": "code",
   "execution_count": 9,
   "metadata": {},
   "outputs": [
    {
     "data": {
      "text/plain": [
       "(Timestamp('2016-01-01 00:00:40'), Timestamp('2021-12-30 23:59:36'))"
      ]
     },
     "execution_count": 9,
     "metadata": {},
     "output_type": "execute_result"
    }
   ],
   "source": [
    "#Verificamos que se hayan filtrado los datos\n",
    "df_review['date'].min(),df_review['date'].max()"
   ]
  },
  {
   "cell_type": "code",
   "execution_count": 10,
   "metadata": {},
   "outputs": [
    {
     "data": {
      "text/plain": [
       "0"
      ]
     },
     "execution_count": 10,
     "metadata": {},
     "output_type": "execute_result"
    }
   ],
   "source": [
    "#Verificamos los duplicados\n",
    "df_review.duplicated().sum()"
   ]
  },
  {
   "cell_type": "code",
   "execution_count": 11,
   "metadata": {},
   "outputs": [],
   "source": [
    "#Filtramos con el dataset de negocios   \n",
    "df_business=pd.read_parquet('Datos limpios/restaurantes_yelps.parquet')"
   ]
  },
  {
   "cell_type": "code",
   "execution_count": 12,
   "metadata": {},
   "outputs": [],
   "source": [
    "df_review=pd.merge(df_review,df_business['business_id'],on='business_id',how='inner')"
   ]
  },
  {
   "cell_type": "code",
   "execution_count": 13,
   "metadata": {},
   "outputs": [
    {
     "name": "stdout",
     "output_type": "stream",
     "text": [
      "<class 'pandas.core.frame.DataFrame'>\n",
      "RangeIndex: 932123 entries, 0 to 932122\n",
      "Data columns (total 7 columns):\n",
      " #   Column       Non-Null Count   Dtype         \n",
      "---  ------       --------------   -----         \n",
      " 0   review_id    932123 non-null  object        \n",
      " 1   business_id  932123 non-null  object        \n",
      " 2   user_id      932123 non-null  object        \n",
      " 3   stars        932123 non-null  int64         \n",
      " 4   useful       932123 non-null  int64         \n",
      " 5   text         932123 non-null  object        \n",
      " 6   date         932123 non-null  datetime64[ns]\n",
      "dtypes: datetime64[ns](1), int64(2), object(4)\n",
      "memory usage: 49.8+ MB\n"
     ]
    }
   ],
   "source": [
    "df_review.info()"
   ]
  },
  {
   "cell_type": "code",
   "execution_count": 18,
   "metadata": {},
   "outputs": [],
   "source": [
    "df_review.to_parquet('Datos limpios/reviews_yelps.parquet')"
   ]
  },
  {
   "cell_type": "code",
   "execution_count": 19,
   "metadata": {},
   "outputs": [],
   "source": [
    "df=pd.read_parquet('Datos limpios/reviews_yelps.parquet')"
   ]
  },
  {
   "cell_type": "code",
   "execution_count": 20,
   "metadata": {},
   "outputs": [
    {
     "data": {
      "text/html": [
       "<div>\n",
       "<style scoped>\n",
       "    .dataframe tbody tr th:only-of-type {\n",
       "        vertical-align: middle;\n",
       "    }\n",
       "\n",
       "    .dataframe tbody tr th {\n",
       "        vertical-align: top;\n",
       "    }\n",
       "\n",
       "    .dataframe thead th {\n",
       "        text-align: right;\n",
       "    }\n",
       "</style>\n",
       "<table border=\"1\" class=\"dataframe\">\n",
       "  <thead>\n",
       "    <tr style=\"text-align: right;\">\n",
       "      <th></th>\n",
       "      <th>review_id</th>\n",
       "      <th>business_id</th>\n",
       "      <th>user_id</th>\n",
       "      <th>stars</th>\n",
       "      <th>useful</th>\n",
       "      <th>text</th>\n",
       "      <th>date</th>\n",
       "      <th>sentiment</th>\n",
       "    </tr>\n",
       "  </thead>\n",
       "  <tbody>\n",
       "    <tr>\n",
       "      <th>0</th>\n",
       "      <td>KU_O5udG6zpxOg-VcAEodg</td>\n",
       "      <td>XQfwVwDr-v0ZS3_CbbE5Xw</td>\n",
       "      <td>mh_-eMZ6K5RLWhZyISBhwA</td>\n",
       "      <td>3</td>\n",
       "      <td>0</td>\n",
       "      <td>If you decide to eat here, just be aware it is...</td>\n",
       "      <td>2018-07-07 22:09:11</td>\n",
       "      <td>-0.91</td>\n",
       "    </tr>\n",
       "    <tr>\n",
       "      <th>1</th>\n",
       "      <td>VJxlBnJmCDIy8DFG0kjSow</td>\n",
       "      <td>XQfwVwDr-v0ZS3_CbbE5Xw</td>\n",
       "      <td>Iaee7y6zdSB3B-kRCo4z1w</td>\n",
       "      <td>2</td>\n",
       "      <td>0</td>\n",
       "      <td>This is the second time we tried turning point...</td>\n",
       "      <td>2017-05-13 17:06:55</td>\n",
       "      <td>-1.04</td>\n",
       "    </tr>\n",
       "    <tr>\n",
       "      <th>2</th>\n",
       "      <td>S6pQZQocMB1WHMjTRbt77A</td>\n",
       "      <td>XQfwVwDr-v0ZS3_CbbE5Xw</td>\n",
       "      <td>ejFxLGqQcWNLdNByJlIhnQ</td>\n",
       "      <td>4</td>\n",
       "      <td>2</td>\n",
       "      <td>The place is cute and the staff was very frien...</td>\n",
       "      <td>2017-08-08 00:58:18</td>\n",
       "      <td>-0.48</td>\n",
       "    </tr>\n",
       "    <tr>\n",
       "      <th>3</th>\n",
       "      <td>WqgTKVqWVHDHjnjEsBvUgg</td>\n",
       "      <td>XQfwVwDr-v0ZS3_CbbE5Xw</td>\n",
       "      <td>f7xa0p_1V9lx53iIGN5Sug</td>\n",
       "      <td>3</td>\n",
       "      <td>0</td>\n",
       "      <td>We came on a Saturday morning after waiting a ...</td>\n",
       "      <td>2017-11-19 02:20:23</td>\n",
       "      <td>-0.90</td>\n",
       "    </tr>\n",
       "    <tr>\n",
       "      <th>4</th>\n",
       "      <td>M0wzFFb7pefOPcxeRVbLag</td>\n",
       "      <td>XQfwVwDr-v0ZS3_CbbE5Xw</td>\n",
       "      <td>dCooFVCk8M1nVaQqcfTL3Q</td>\n",
       "      <td>2</td>\n",
       "      <td>0</td>\n",
       "      <td>Mediocre at best. The decor is very nice, and ...</td>\n",
       "      <td>2017-09-09 17:49:47</td>\n",
       "      <td>-0.92</td>\n",
       "    </tr>\n",
       "    <tr>\n",
       "      <th>...</th>\n",
       "      <td>...</td>\n",
       "      <td>...</td>\n",
       "      <td>...</td>\n",
       "      <td>...</td>\n",
       "      <td>...</td>\n",
       "      <td>...</td>\n",
       "      <td>...</td>\n",
       "      <td>...</td>\n",
       "    </tr>\n",
       "    <tr>\n",
       "      <th>932118</th>\n",
       "      <td>z-RCSaV5RqCsSD5DZmc8HA</td>\n",
       "      <td>e_E-jq9mwm7wk75k7Yi-Xw</td>\n",
       "      <td>CiSXaYHWYsIqxgyAeZc03A</td>\n",
       "      <td>5</td>\n",
       "      <td>1</td>\n",
       "      <td>Decided to celebrate our 35th wedding annivers...</td>\n",
       "      <td>2021-11-28 03:45:42</td>\n",
       "      <td>-0.81</td>\n",
       "    </tr>\n",
       "    <tr>\n",
       "      <th>932119</th>\n",
       "      <td>V8WsoH8xNmj4jqW7walKvQ</td>\n",
       "      <td>e_E-jq9mwm7wk75k7Yi-Xw</td>\n",
       "      <td>Bkqz4gBLAXIS5BKDfoCNhg</td>\n",
       "      <td>5</td>\n",
       "      <td>2</td>\n",
       "      <td>Wow, where to begin. I've had my eye on this g...</td>\n",
       "      <td>2021-12-05 15:42:04</td>\n",
       "      <td>-0.73</td>\n",
       "    </tr>\n",
       "    <tr>\n",
       "      <th>932120</th>\n",
       "      <td>LYKChxbug4czF7ue6j0A4w</td>\n",
       "      <td>e_E-jq9mwm7wk75k7Yi-Xw</td>\n",
       "      <td>jiiVEghxAusmeYxw1OYpQw</td>\n",
       "      <td>5</td>\n",
       "      <td>2</td>\n",
       "      <td>There are almost no words for how lovely Lark ...</td>\n",
       "      <td>2021-12-19 23:52:58</td>\n",
       "      <td>-0.66</td>\n",
       "    </tr>\n",
       "    <tr>\n",
       "      <th>932121</th>\n",
       "      <td>T4Yql8j7BJWhS3sbr1rN3g</td>\n",
       "      <td>ziyH038atwcCDZDLq9K9tQ</td>\n",
       "      <td>lq-hd6eJjP3eHPX33naivg</td>\n",
       "      <td>2</td>\n",
       "      <td>0</td>\n",
       "      <td>Pretty place, modern deco, nice services affor...</td>\n",
       "      <td>2021-01-03 01:10:57</td>\n",
       "      <td>-0.46</td>\n",
       "    </tr>\n",
       "    <tr>\n",
       "      <th>932122</th>\n",
       "      <td>ItaHxBDllyjkRyzcqWjh6A</td>\n",
       "      <td>SS6QZgF1jsKMeN5QFZvIkQ</td>\n",
       "      <td>Fb8aMM_DcxAitISZsGs9mQ</td>\n",
       "      <td>1</td>\n",
       "      <td>0</td>\n",
       "      <td>Absolutely horrible service. Front service too...</td>\n",
       "      <td>2020-09-06 14:01:46</td>\n",
       "      <td>-1.26</td>\n",
       "    </tr>\n",
       "  </tbody>\n",
       "</table>\n",
       "<p>932123 rows × 8 columns</p>\n",
       "</div>"
      ],
      "text/plain": [
       "                     review_id             business_id  \\\n",
       "0       KU_O5udG6zpxOg-VcAEodg  XQfwVwDr-v0ZS3_CbbE5Xw   \n",
       "1       VJxlBnJmCDIy8DFG0kjSow  XQfwVwDr-v0ZS3_CbbE5Xw   \n",
       "2       S6pQZQocMB1WHMjTRbt77A  XQfwVwDr-v0ZS3_CbbE5Xw   \n",
       "3       WqgTKVqWVHDHjnjEsBvUgg  XQfwVwDr-v0ZS3_CbbE5Xw   \n",
       "4       M0wzFFb7pefOPcxeRVbLag  XQfwVwDr-v0ZS3_CbbE5Xw   \n",
       "...                        ...                     ...   \n",
       "932118  z-RCSaV5RqCsSD5DZmc8HA  e_E-jq9mwm7wk75k7Yi-Xw   \n",
       "932119  V8WsoH8xNmj4jqW7walKvQ  e_E-jq9mwm7wk75k7Yi-Xw   \n",
       "932120  LYKChxbug4czF7ue6j0A4w  e_E-jq9mwm7wk75k7Yi-Xw   \n",
       "932121  T4Yql8j7BJWhS3sbr1rN3g  ziyH038atwcCDZDLq9K9tQ   \n",
       "932122  ItaHxBDllyjkRyzcqWjh6A  SS6QZgF1jsKMeN5QFZvIkQ   \n",
       "\n",
       "                       user_id  stars  useful  \\\n",
       "0       mh_-eMZ6K5RLWhZyISBhwA      3       0   \n",
       "1       Iaee7y6zdSB3B-kRCo4z1w      2       0   \n",
       "2       ejFxLGqQcWNLdNByJlIhnQ      4       2   \n",
       "3       f7xa0p_1V9lx53iIGN5Sug      3       0   \n",
       "4       dCooFVCk8M1nVaQqcfTL3Q      2       0   \n",
       "...                        ...    ...     ...   \n",
       "932118  CiSXaYHWYsIqxgyAeZc03A      5       1   \n",
       "932119  Bkqz4gBLAXIS5BKDfoCNhg      5       2   \n",
       "932120  jiiVEghxAusmeYxw1OYpQw      5       2   \n",
       "932121  lq-hd6eJjP3eHPX33naivg      2       0   \n",
       "932122  Fb8aMM_DcxAitISZsGs9mQ      1       0   \n",
       "\n",
       "                                                     text                date  \\\n",
       "0       If you decide to eat here, just be aware it is... 2018-07-07 22:09:11   \n",
       "1       This is the second time we tried turning point... 2017-05-13 17:06:55   \n",
       "2       The place is cute and the staff was very frien... 2017-08-08 00:58:18   \n",
       "3       We came on a Saturday morning after waiting a ... 2017-11-19 02:20:23   \n",
       "4       Mediocre at best. The decor is very nice, and ... 2017-09-09 17:49:47   \n",
       "...                                                   ...                 ...   \n",
       "932118  Decided to celebrate our 35th wedding annivers... 2021-11-28 03:45:42   \n",
       "932119  Wow, where to begin. I've had my eye on this g... 2021-12-05 15:42:04   \n",
       "932120  There are almost no words for how lovely Lark ... 2021-12-19 23:52:58   \n",
       "932121  Pretty place, modern deco, nice services affor... 2021-01-03 01:10:57   \n",
       "932122  Absolutely horrible service. Front service too... 2020-09-06 14:01:46   \n",
       "\n",
       "        sentiment  \n",
       "0           -0.91  \n",
       "1           -1.04  \n",
       "2           -0.48  \n",
       "3           -0.90  \n",
       "4           -0.92  \n",
       "...           ...  \n",
       "932118      -0.81  \n",
       "932119      -0.73  \n",
       "932120      -0.66  \n",
       "932121      -0.46  \n",
       "932122      -1.26  \n",
       "\n",
       "[932123 rows x 8 columns]"
      ]
     },
     "execution_count": 20,
     "metadata": {},
     "output_type": "execute_result"
    }
   ],
   "source": [
    "df"
   ]
  },
  {
   "cell_type": "code",
   "execution_count": 16,
   "metadata": {},
   "outputs": [],
   "source": [
    "from textblob import TextBlob\n",
    "def calculate_sentiment(text):\n",
    "    if text is None:\n",
    "        return 0\n",
    "    else:\n",
    "        # Redondea el valor de la polaridad a 2 decimales\n",
    "        return round(TextBlob(text).sentiment.polarity, 2)\n",
    "df_review['sentiment'] = df_review['text'].apply(calculate_sentiment)\n",
    "#redondeamos los numeros\n",
    "df_review['sentiment']=df_review['sentiment'].round(2)\n",
    "#le restamos 1\n",
    "df_review['sentiment']=df_review['sentiment']-1"
   ]
  }
 ],
 "metadata": {
  "kernelspec": {
   "display_name": "Python 3",
   "language": "python",
   "name": "python3"
  },
  "language_info": {
   "codemirror_mode": {
    "name": "ipython",
    "version": 3
   },
   "file_extension": ".py",
   "mimetype": "text/x-python",
   "name": "python",
   "nbconvert_exporter": "python",
   "pygments_lexer": "ipython3",
   "version": "3.12.1"
  }
 },
 "nbformat": 4,
 "nbformat_minor": 2
}
